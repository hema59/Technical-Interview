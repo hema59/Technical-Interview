{
 "cells": [
  {
   "cell_type": "code",
   "execution_count": 212,
   "metadata": {},
   "outputs": [],
   "source": [
    "class Node:\n",
    "    def __init__(self, val):\n",
    "        self.data = val\n",
    "        self.next = None"
   ]
  },
  {
   "cell_type": "markdown",
   "metadata": {},
   "source": [
    "# Linked List Creation and Operations\n",
    "\n",
    "**Basics**: \n",
    "\n",
    "- Insertion : at begining, end and middle(using position or val) *DONE* \n",
    "- Deletion of a given node *DONE* \n",
    "- Search *DONE* \n",
    "- Traverse *DONE* \n",
    "\n",
    "**Extra **:\n",
    "\n",
    "- remove all elements with given val\n",
    "- clear list\n",
    "- get middle element"
   ]
  },
  {
   "cell_type": "code",
   "execution_count": 213,
   "metadata": {},
   "outputs": [],
   "source": [
    "class LinkedList:\n",
    "    def __init__ (self):\n",
    "        self.head = None\n",
    "        self.size = 1\n",
    "    \n",
    "    #insert at begining\n",
    "    def insertAtHead( self, val):\n",
    "        #if there's no head yet\n",
    "        if self.head is None:\n",
    "            self.head = Node(val)\n",
    "            self.size+=1\n",
    "            return\n",
    "            \n",
    "        #if list already exists\n",
    "        newNode = Node(val)\n",
    "        newNode.next = self.head\n",
    "        self.head = newNode\n",
    "        self.size+=1\n",
    "        return \n",
    "    \n",
    "    #insert at end\n",
    "    def insertAtTail(self, val):\n",
    "        if self.head is None:\n",
    "            self.head = Node(val)\n",
    "            self.size+=1\n",
    "            return \n",
    "        c = self.head\n",
    "        while c.next:\n",
    "            c = c.next\n",
    "        c.next = Node(val)\n",
    "        self.size+=1\n",
    "        return \n",
    "    \n",
    "    #insert using position\n",
    "    def insertAtPosition(self, position, val):\n",
    "        if position == 0:\n",
    "            return self.insertAtHead(val)\n",
    "        if position == self.size:\n",
    "            return self.insertAtTail(val)\n",
    "        c = self.head\n",
    "        counter = 1\n",
    "        while counter<=position and c.next is not None:\n",
    "            prev = c\n",
    "            c = c.next\n",
    "            counter+=1\n",
    "        prev.next = Node(val)\n",
    "        prev.next.next = c\n",
    "        return \n",
    "    \n",
    "    def removePosition(self,position):\n",
    "        if self.head is None:\n",
    "            return \"No list\"\n",
    "        if position <=0 or position>self.size:\n",
    "            return \"Position out of bounds\"\n",
    "        c = self.head\n",
    "        counter = 1\n",
    "        if position == 1:\n",
    "            print(\"Removing %d at position %d\"%(c.data, position))\n",
    "            self.size-=1\n",
    "            self.head = self.head.next\n",
    "            return\n",
    "        while c is not None and counter<=self.size:\n",
    "            if counter == position:\n",
    "                break\n",
    "            prev = c\n",
    "            c = c.next\n",
    "            counter+=1\n",
    "        print(\"Removing %d at position %d\"%(c.data, counter))\n",
    "        prev.next = c.next\n",
    "        c =None\n",
    "        self.size-=1\n",
    "        return\n",
    "    \n",
    "    #delete a value\n",
    "    def removeValue(self, val):\n",
    "        if self.head is None:\n",
    "            return \"No list\"\n",
    "        c = self.head\n",
    "        #case 1: if head has this val\n",
    "        if c.data == val:\n",
    "            print(\"Removing %d at head\"%(c.data))\n",
    "            self.head = self.head.next\n",
    "            self.size-=1\n",
    "            return\n",
    "        #otherwise\n",
    "        while c:\n",
    "            if c.data == val:\n",
    "                break\n",
    "            prev = c\n",
    "            c = c.next\n",
    "        if c is None:\n",
    "            return \"Element not in list\"\n",
    "        self.size-=1\n",
    "        print('Removing %d from list'%(val))\n",
    "        prev.next = c.next\n",
    "        c = None\n",
    "        return\n",
    "    \n",
    "    #traverse\n",
    "    def printMe(self):\n",
    "        if self.head is None:\n",
    "            return \"No List\"\n",
    "        c = self.head\n",
    "        while c:\n",
    "            print(\" \",c.data,end=\" ->\")\n",
    "            c = c.next\n",
    "        print(\" End\")\n",
    "        return\n",
    "           "
   ]
  },
  {
   "cell_type": "code",
   "execution_count": 214,
   "metadata": {},
   "outputs": [
    {
     "data": {
      "text/plain": [
       "'No List'"
      ]
     },
     "execution_count": 214,
     "metadata": {},
     "output_type": "execute_result"
    }
   ],
   "source": [
    "linkedList = LinkedList()\n",
    "linkedList.printMe()"
   ]
  },
  {
   "cell_type": "code",
   "execution_count": 215,
   "metadata": {},
   "outputs": [
    {
     "name": "stdout",
     "output_type": "stream",
     "text": [
      "  9 ->  3 ->  5 -> End\n"
     ]
    }
   ],
   "source": [
    "linkedList.insertAtHead(5)\n",
    "linkedList.insertAtHead(3)\n",
    "linkedList.insertAtHead(9)\n",
    "linkedList.printMe()"
   ]
  },
  {
   "cell_type": "code",
   "execution_count": 216,
   "metadata": {},
   "outputs": [
    {
     "name": "stdout",
     "output_type": "stream",
     "text": [
      "  9 ->  3 ->  5 ->  8 ->  2 ->  1 -> End\n"
     ]
    }
   ],
   "source": [
    "linkedList.insertAtTail(8)\n",
    "linkedList.insertAtTail(2)\n",
    "linkedList.insertAtTail(1)\n",
    "linkedList.printMe()"
   ]
  },
  {
   "cell_type": "code",
   "execution_count": 217,
   "metadata": {},
   "outputs": [
    {
     "name": "stdout",
     "output_type": "stream",
     "text": [
      "  10 ->  9 ->  3 ->  5 ->  7 ->  8 ->  2 ->  1 -> End\n"
     ]
    }
   ],
   "source": [
    "linkedList.insertAtPosition(position=0,val=10)\n",
    "linkedList.insertAtPosition(position=4,val=7)\n",
    "linkedList.printMe()"
   ]
  },
  {
   "cell_type": "code",
   "execution_count": 218,
   "metadata": {},
   "outputs": [
    {
     "name": "stdout",
     "output_type": "stream",
     "text": [
      "  10 ->  9 ->  3 ->  5 ->  7 ->  8 ->  2 ->  1 ->  12 -> End\n"
     ]
    }
   ],
   "source": [
    "s =linkedList.size\n",
    "linkedList.insertAtPosition(position=s,val=12)\n",
    "linkedList.printMe()"
   ]
  },
  {
   "cell_type": "code",
   "execution_count": 219,
   "metadata": {},
   "outputs": [
    {
     "name": "stdout",
     "output_type": "stream",
     "text": [
      "Removing 10 at head\n",
      "Removing 7 from list\n",
      "  9 ->  3 ->  5 ->  8 ->  2 ->  1 ->  12 -> End\n"
     ]
    }
   ],
   "source": [
    "linkedList.removeValue(10)\n",
    "linkedList.removeValue(7)\n",
    "linkedList.printMe()"
   ]
  },
  {
   "cell_type": "code",
   "execution_count": 220,
   "metadata": {},
   "outputs": [
    {
     "data": {
      "text/plain": [
       "'Element not in list'"
      ]
     },
     "execution_count": 220,
     "metadata": {},
     "output_type": "execute_result"
    }
   ],
   "source": [
    "linkedList.removeValue(13)"
   ]
  },
  {
   "cell_type": "code",
   "execution_count": 221,
   "metadata": {},
   "outputs": [
    {
     "name": "stdout",
     "output_type": "stream",
     "text": [
      "7\n"
     ]
    }
   ],
   "source": [
    "print(linkedList.size)"
   ]
  },
  {
   "cell_type": "code",
   "execution_count": 222,
   "metadata": {},
   "outputs": [
    {
     "data": {
      "text/plain": [
       "'Position out of bounds'"
      ]
     },
     "execution_count": 222,
     "metadata": {},
     "output_type": "execute_result"
    }
   ],
   "source": [
    "linkedList.removePosition(0)"
   ]
  },
  {
   "cell_type": "code",
   "execution_count": 223,
   "metadata": {},
   "outputs": [
    {
     "name": "stdout",
     "output_type": "stream",
     "text": [
      "  9 ->  3 ->  5 ->  8 ->  2 ->  1 ->  12 -> End\n"
     ]
    }
   ],
   "source": [
    "linkedList.printMe()"
   ]
  },
  {
   "cell_type": "code",
   "execution_count": 224,
   "metadata": {},
   "outputs": [
    {
     "name": "stdout",
     "output_type": "stream",
     "text": [
      "Removing 9 at position 1\n",
      "  3 ->  5 ->  8 ->  2 ->  1 ->  12 -> End\n"
     ]
    }
   ],
   "source": [
    "linkedList.removePosition(1)\n",
    "linkedList.printMe()"
   ]
  },
  {
   "cell_type": "code",
   "execution_count": 225,
   "metadata": {},
   "outputs": [
    {
     "name": "stdout",
     "output_type": "stream",
     "text": [
      "Removing 2 at position 4\n",
      "  3 ->  5 ->  8 ->  1 ->  12 -> End\n"
     ]
    }
   ],
   "source": [
    "linkedList.removePosition(4)\n",
    "linkedList.printMe()"
   ]
  },
  {
   "cell_type": "code",
   "execution_count": 226,
   "metadata": {},
   "outputs": [
    {
     "name": "stdout",
     "output_type": "stream",
     "text": [
      "5\n"
     ]
    }
   ],
   "source": [
    "print(linkedList.size)"
   ]
  },
  {
   "cell_type": "code",
   "execution_count": 227,
   "metadata": {},
   "outputs": [
    {
     "data": {
      "text/plain": [
       "'Position out of bounds'"
      ]
     },
     "execution_count": 227,
     "metadata": {},
     "output_type": "execute_result"
    }
   ],
   "source": [
    "linkedList.removePosition(30)"
   ]
  },
  {
   "cell_type": "code",
   "execution_count": null,
   "metadata": {},
   "outputs": [],
   "source": []
  }
 ],
 "metadata": {
  "kernelspec": {
   "display_name": "Python 3",
   "language": "python",
   "name": "python3"
  },
  "language_info": {
   "codemirror_mode": {
    "name": "ipython",
    "version": 3
   },
   "file_extension": ".py",
   "mimetype": "text/x-python",
   "name": "python",
   "nbconvert_exporter": "python",
   "pygments_lexer": "ipython3",
   "version": "3.6.9"
  }
 },
 "nbformat": 4,
 "nbformat_minor": 2
}
