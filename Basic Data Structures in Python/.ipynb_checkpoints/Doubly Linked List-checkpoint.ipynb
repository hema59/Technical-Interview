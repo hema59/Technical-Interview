{
 "cells": [
  {
   "cell_type": "code",
   "execution_count": 33,
   "metadata": {},
   "outputs": [],
   "source": [
    "class Node:\n",
    "    def __init__(self, val):\n",
    "        self.value = val\n",
    "        self.next = None\n",
    "        self.prev = None\n",
    "        \n",
    "class doubly:\n",
    "    def __init__(self):\n",
    "        self.head = None\n",
    "        \n",
    "    def insert_at_position(self, val, pos):\n",
    "        if self.head is None:\n",
    "            self.head = Node(val)\n",
    "            return\n",
    "        idx = 0 \n",
    "        p = self.head\n",
    "        while p.next:\n",
    "            if idx == pos:\n",
    "                t = Node(val)\n",
    "                t.next = p.next\n",
    "                t.prev = p\n",
    "                p.next = t\n",
    "                print(\"{} inserted\".format(val))\n",
    "                return\n",
    "            p =p.next\n",
    "            idx +=1\n",
    "    \n",
    "    def append(self, val):\n",
    "        if self.head is None:\n",
    "            self.head = Node(val)\n",
    "            return\n",
    "        p = self.head\n",
    "        while p.next is not None :\n",
    "            p = p.next\n",
    "        p.next = Node(val)\n",
    "        print(\"{} appended\".format(val))\n",
    "        return\n",
    "    \n",
    "    def print_dll(self):\n",
    "        p = self.head\n",
    "        while p:\n",
    "            print(p.value, end = \" - \")\n",
    "            p = p.next\n",
    "        return"
   ]
  },
  {
   "cell_type": "code",
   "execution_count": 34,
   "metadata": {},
   "outputs": [
    {
     "name": "stdout",
     "output_type": "stream",
     "text": [
      "2 appended\n",
      "7 appended\n",
      "9 - 2 - 7 - "
     ]
    }
   ],
   "source": [
    "dll = doubly()\n",
    "dll.append(9)\n",
    "dll.append(2)\n",
    "dll.append(7)\n",
    "dll.print_dll()"
   ]
  },
  {
   "cell_type": "code",
   "execution_count": 35,
   "metadata": {},
   "outputs": [
    {
     "name": "stdout",
     "output_type": "stream",
     "text": [
      "3 inserted\n"
     ]
    }
   ],
   "source": [
    "dll.insert_at_position(val = 3, pos = 1)"
   ]
  },
  {
   "cell_type": "code",
   "execution_count": 36,
   "metadata": {},
   "outputs": [
    {
     "name": "stdout",
     "output_type": "stream",
     "text": [
      "9 - 2 - 3 - 7 - "
     ]
    }
   ],
   "source": [
    "dll.print_dll()"
   ]
  },
  {
   "cell_type": "code",
   "execution_count": null,
   "metadata": {},
   "outputs": [],
   "source": [
    "    def remove_at_position(self):\n",
    "        return\n",
    "    \n",
    "    def remove_value(self):\n",
    "        return\n",
    "    \n",
    "    def search(self, val):\n",
    "        return\n",
    "    "
   ]
  }
 ],
 "metadata": {
  "kernelspec": {
   "display_name": "Python 3",
   "language": "python",
   "name": "python3"
  },
  "language_info": {
   "codemirror_mode": {
    "name": "ipython",
    "version": 3
   },
   "file_extension": ".py",
   "mimetype": "text/x-python",
   "name": "python",
   "nbconvert_exporter": "python",
   "pygments_lexer": "ipython3",
   "version": "3.6.9"
  }
 },
 "nbformat": 4,
 "nbformat_minor": 2
}
