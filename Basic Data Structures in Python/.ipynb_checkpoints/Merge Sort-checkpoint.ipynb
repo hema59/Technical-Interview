{
 "cells": [
  {
   "cell_type": "code",
   "execution_count": 9,
   "metadata": {},
   "outputs": [
    {
     "data": {
      "text/plain": [
       "[1, 2, 3, 4, 5]"
      ]
     },
     "execution_count": 9,
     "metadata": {},
     "output_type": "execute_result"
    }
   ],
   "source": [
    "def mergesort( array ):\n",
    "    if len(array) >1:\n",
    "        mid = len(array)//2\n",
    "    else:\n",
    "        return False\n",
    "    left = array[: mid]\n",
    "    right = array[mid:]\n",
    "    mergesort(left)\n",
    "    mergesort(right)\n",
    "    \n",
    "    i=j=k=0\n",
    "    while i<len(left) and j<len(right):\n",
    "        if left[i] < right[j]:\n",
    "            array[k] = left[i]\n",
    "            i+=1\n",
    "        else:\n",
    "            array[k] = right[j]\n",
    "            j+=1\n",
    "        k+=1\n",
    "    \n",
    "    while i < len(left):\n",
    "        array[k] = left[i]\n",
    "        i+=1\n",
    "        k+=1\n",
    "    while j <len(right):\n",
    "        array[k] = right[j]\n",
    "        j+=1\n",
    "        k+=1\n",
    "    return array\n",
    "\n",
    "mergesort([3,5,4,2,1])"
   ]
  },
  {
   "cell_type": "code",
   "execution_count": null,
   "metadata": {},
   "outputs": [],
   "source": []
  }
 ],
 "metadata": {
  "kernelspec": {
   "display_name": "Python 3",
   "language": "python",
   "name": "python3"
  },
  "language_info": {
   "codemirror_mode": {
    "name": "ipython",
    "version": 3
   },
   "file_extension": ".py",
   "mimetype": "text/x-python",
   "name": "python",
   "nbconvert_exporter": "python",
   "pygments_lexer": "ipython3",
   "version": "3.6.9"
  }
 },
 "nbformat": 4,
 "nbformat_minor": 2
}
