{
 "cells": [
  {
   "cell_type": "code",
   "execution_count": 54,
   "metadata": {},
   "outputs": [],
   "source": [
    "class Node:\n",
    "    def __init__(self, val) :\n",
    "        self.value = val\n",
    "        self.left = None\n",
    "        self.right = None\n",
    "        \n",
    "class BST:\n",
    "    def __init__(self):\n",
    "        self.root = None\n",
    "        \n",
    "    def insert(self, val, node= None):\n",
    "        if self.root is None:\n",
    "            self.root = Node(val)\n",
    "            return\n",
    "        if node is None: node = self.root\n",
    "        if node.value > val:\n",
    "            if node.left is None:\n",
    "                node.left = Node(val)\n",
    "            else:\n",
    "                return self.insert(val, node.left)\n",
    "        else:\n",
    "            if node.right is None:\n",
    "                node.right = Node(val)\n",
    "            else:\n",
    "                return self.insert(val, node.right)\n",
    "    #function remove a node\n",
    "    \n",
    "    def search( self, val, node = None):\n",
    "        if self.root is None:\n",
    "            return \"Empty Tree\"\n",
    "        if node is None:\n",
    "            node = self.root\n",
    "        \n",
    "        if node.value == val:\n",
    "            return \"Found\"\n",
    "        \n",
    "        if node.value >= val :\n",
    "            if node.left is not None:\n",
    "                return self.search(val, node.left)\n",
    "        else:\n",
    "            if node.right is not None:\n",
    "                return self.search(val, node.right)\n",
    "                \n",
    "        return \"Not Found\"\n",
    "    \n",
    "    def preorder(self, node):\n",
    "        print(node.value, end =\" \")\n",
    "        if node.left:\n",
    "            self.preorder(node.left)\n",
    "        if node.right:\n",
    "            self.preorder(node.right)\n",
    "            \n",
    "    def postorder(self, node):\n",
    "        if node.left:\n",
    "            self.postorder(node.left)\n",
    "        if node.right:\n",
    "            self.postorder(node.right)\n",
    "        print(node.value, end= \" \")\n",
    "        \n",
    "    def inorder(self, node):\n",
    "        if node.left:\n",
    "            self.inorder(node.left)\n",
    "        print(node.value,end = \" \")\n",
    "        if node.right:\n",
    "            self.inorder(node.right)\n",
    "            \n",
    "    def get_root(self):\n",
    "        return self.root"
   ]
  },
  {
   "cell_type": "markdown",
   "metadata": {},
   "source": [
    "<img src=\"DS algo topics.jpg\">"
   ]
  },
  {
   "cell_type": "code",
   "execution_count": 55,
   "metadata": {},
   "outputs": [
    {
     "name": "stdout",
     "output_type": "stream",
     "text": [
      "7 "
     ]
    }
   ],
   "source": [
    "btree = BST()\n",
    "btree.insert(7)\n",
    "btree.inorder( btree.get_root())"
   ]
  },
  {
   "cell_type": "code",
   "execution_count": 56,
   "metadata": {},
   "outputs": [
    {
     "name": "stdout",
     "output_type": "stream",
     "text": [
      "4 7 10 "
     ]
    }
   ],
   "source": [
    "btree.insert(4)\n",
    "btree.insert(10)\n",
    "btree.inorder( btree.get_root() )"
   ]
  },
  {
   "cell_type": "code",
   "execution_count": 57,
   "metadata": {},
   "outputs": [
    {
     "name": "stdout",
     "output_type": "stream",
     "text": [
      "1 4 5 7 10 21 "
     ]
    }
   ],
   "source": [
    "btree.insert(1)\n",
    "btree.insert(21)\n",
    "btree.insert(5)\n",
    "btree.inorder( btree.get_root() )"
   ]
  },
  {
   "cell_type": "code",
   "execution_count": 58,
   "metadata": {},
   "outputs": [
    {
     "name": "stdout",
     "output_type": "stream",
     "text": [
      "1 5 4 21 10 7 "
     ]
    }
   ],
   "source": [
    "btree.postorder( btree.get_root() )"
   ]
  },
  {
   "cell_type": "code",
   "execution_count": 59,
   "metadata": {},
   "outputs": [
    {
     "name": "stdout",
     "output_type": "stream",
     "text": [
      "7 4 1 5 10 21 "
     ]
    }
   ],
   "source": [
    "btree.preorder( btree.get_root() )"
   ]
  },
  {
   "cell_type": "code",
   "execution_count": 60,
   "metadata": {},
   "outputs": [
    {
     "data": {
      "text/plain": [
       "'Not Found'"
      ]
     },
     "execution_count": 60,
     "metadata": {},
     "output_type": "execute_result"
    }
   ],
   "source": [
    "btree.search(6)"
   ]
  },
  {
   "cell_type": "code",
   "execution_count": 61,
   "metadata": {},
   "outputs": [
    {
     "data": {
      "text/plain": [
       "'Found'"
      ]
     },
     "execution_count": 61,
     "metadata": {},
     "output_type": "execute_result"
    }
   ],
   "source": [
    "btree.search(10)"
   ]
  },
  {
   "cell_type": "code",
   "execution_count": null,
   "metadata": {},
   "outputs": [],
   "source": []
  }
 ],
 "metadata": {
  "kernelspec": {
   "display_name": "Python 3",
   "language": "python",
   "name": "python3"
  },
  "language_info": {
   "codemirror_mode": {
    "name": "ipython",
    "version": 3
   },
   "file_extension": ".py",
   "mimetype": "text/x-python",
   "name": "python",
   "nbconvert_exporter": "python",
   "pygments_lexer": "ipython3",
   "version": "3.6.9"
  }
 },
 "nbformat": 4,
 "nbformat_minor": 2
}
