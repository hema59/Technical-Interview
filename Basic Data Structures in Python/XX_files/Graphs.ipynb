{
 "cells": [
  {
   "cell_type": "markdown",
   "metadata": {},
   "source": [
    "<img src=\"graph.jpg\">"
   ]
  },
  {
   "cell_type": "code",
   "execution_count": 7,
   "metadata": {},
   "outputs": [],
   "source": [
    "from collections import deque\n",
    "graph = { 'A' : ['B','D'],\n",
    "          'B' : ['C'],\n",
    "          'C' : ['B','E'],\n",
    "          'D' : ['A','F'],\n",
    "          'E' : ['D'],\n",
    "          'F' : ['G'],\n",
    "          'G' : ['E','H'],\n",
    "         }"
   ]
  },
  {
   "cell_type": "code",
   "execution_count": 8,
   "metadata": {},
   "outputs": [
    {
     "data": {
      "text/plain": [
       "{'A': ['B', 'D'],\n",
       " 'B': ['C'],\n",
       " 'C': ['B', 'E'],\n",
       " 'D': ['A', 'F'],\n",
       " 'E': ['D'],\n",
       " 'F': ['G'],\n",
       " 'G': ['E', 'H'],\n",
       " 'H': []}"
      ]
     },
     "execution_count": 8,
     "metadata": {},
     "output_type": "execute_result"
    }
   ],
   "source": [
    "#add H \n",
    "graph['H']=[]\n",
    "graph"
   ]
  },
  {
   "cell_type": "code",
   "execution_count": 12,
   "metadata": {},
   "outputs": [
    {
     "name": "stdout",
     "output_type": "stream",
     "text": [
      "A H G F E D C B "
     ]
    },
    {
     "data": {
      "text/plain": [
       "'Travel Complete'"
      ]
     },
     "execution_count": 12,
     "metadata": {},
     "output_type": "execute_result"
    }
   ],
   "source": [
    "def BFT( graph, start  ):\n",
    "    visited, queue = set(start), deque(start)\n",
    "    while queue:\n",
    "        vertex = queue.pop()\n",
    "        print(vertex,end=\" \")\n",
    "        for item in graph.keys():\n",
    "            if item not in visited:\n",
    "                visited.add(item)\n",
    "                queue.append(item)\n",
    "    return \"Travel Complete\"\n",
    "\n",
    "BFT(graph, 'A')"
   ]
  },
  {
   "cell_type": "code",
   "execution_count": 15,
   "metadata": {},
   "outputs": [
    {
     "name": "stdout",
     "output_type": "stream",
     "text": [
      "A B C E D F G H D "
     ]
    },
    {
     "data": {
      "text/plain": [
       "'Travel Complete'"
      ]
     },
     "execution_count": 15,
     "metadata": {},
     "output_type": "execute_result"
    }
   ],
   "source": [
    "def DFT( graph, node, visited = None ):\n",
    "    if visited is None:\n",
    "        visited = set()\n",
    "    visited.add(node)\n",
    "    print(node, end = \" \")\n",
    "    for next in set(graph[node])- visited:\n",
    "        DFT(graph, next, visited)\n",
    "    \n",
    "    return \"Travel Complete\"\n",
    "\n",
    "DFT(graph, 'A')"
   ]
  },
  {
   "cell_type": "code",
   "execution_count": null,
   "metadata": {},
   "outputs": [],
   "source": []
  }
 ],
 "metadata": {
  "kernelspec": {
   "display_name": "Python 3",
   "language": "python",
   "name": "python3"
  },
  "language_info": {
   "codemirror_mode": {
    "name": "ipython",
    "version": 3
   },
   "file_extension": ".py",
   "mimetype": "text/x-python",
   "name": "python",
   "nbconvert_exporter": "python",
   "pygments_lexer": "ipython3",
   "version": "3.6.9"
  }
 },
 "nbformat": 4,
 "nbformat_minor": 2
}
