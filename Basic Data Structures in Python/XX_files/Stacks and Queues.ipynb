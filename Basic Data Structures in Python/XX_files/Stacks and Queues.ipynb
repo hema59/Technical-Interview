{
 "cells": [
  {
   "cell_type": "markdown",
   "metadata": {},
   "source": [
    "# Stacks"
   ]
  },
  {
   "cell_type": "code",
   "execution_count": 4,
   "metadata": {},
   "outputs": [
    {
     "name": "stdout",
     "output_type": "stream",
     "text": [
      "Push 3\n",
      "STATUS :  [3]\n",
      "Push 6\n",
      "STATUS :  [3, 6]\n",
      "POP  6 STATUS :  [3]\n",
      "Push 9\n",
      "STATUS :  [3, 9]\n",
      "POP  9 POP  3 STATUS :  []\n"
     ]
    }
   ],
   "source": [
    "#lists\n",
    "stack = []\n",
    "print(\"Push 3\")\n",
    "stack.append(3)\n",
    "print(\"STATUS : \", stack)\n",
    "print(\"Push 6\")\n",
    "stack.append(6)\n",
    "print(\"STATUS : \", stack)\n",
    "print(\"POP \", stack.pop() ,end = \" \")\n",
    "print(\"STATUS : \", stack)\n",
    "\n",
    "print(\"Push 9\")\n",
    "stack.append(9)\n",
    "print(\"STATUS : \", stack)\n",
    "\n",
    "print(\"POP \", stack.pop() ,end = \" \")\n",
    "print(\"POP \", stack.pop() ,end = \" \")\n",
    "#print(\"POP \", stack.pop() ,end = \" \") #ERROR\n",
    "print(\"STATUS : \", stack)\n"
   ]
  },
  {
   "cell_type": "code",
   "execution_count": 5,
   "metadata": {},
   "outputs": [
    {
     "name": "stdout",
     "output_type": "stream",
     "text": [
      "STATUS :  [3]\n"
     ]
    }
   ],
   "source": [
    "#stack class\n",
    "class stack:\n",
    "    def __init__(self):\n",
    "        self.array = []\n",
    "        self.top = None\n",
    "    def push(self, val):\n",
    "        self.array.append(val)\n",
    "        self.top = self.array[len(self.array)-1]\n",
    "        return\n",
    "    def pop(self):\n",
    "        return self.array.pop()\n",
    "    def printStack(self):\n",
    "        print(\"STATUS : \", self.array)\n",
    "\n",
    "s = stack()\n",
    "s.push(3)\n",
    "s.printStack()"
   ]
  },
  {
   "cell_type": "code",
   "execution_count": 6,
   "metadata": {},
   "outputs": [
    {
     "name": "stdout",
     "output_type": "stream",
     "text": [
      "STATUS :  [3, 6]\n"
     ]
    }
   ],
   "source": [
    "s.push(6)\n",
    "s.printStack()"
   ]
  },
  {
   "cell_type": "code",
   "execution_count": 7,
   "metadata": {},
   "outputs": [
    {
     "name": "stdout",
     "output_type": "stream",
     "text": [
      "STATUS :  [3, 6, 9]\n"
     ]
    }
   ],
   "source": [
    "s.push(9)\n",
    "s.printStack()"
   ]
  },
  {
   "cell_type": "code",
   "execution_count": 8,
   "metadata": {},
   "outputs": [
    {
     "data": {
      "text/plain": [
       "9"
      ]
     },
     "execution_count": 8,
     "metadata": {},
     "output_type": "execute_result"
    }
   ],
   "source": [
    "s.pop()"
   ]
  },
  {
   "cell_type": "code",
   "execution_count": 9,
   "metadata": {},
   "outputs": [
    {
     "name": "stdout",
     "output_type": "stream",
     "text": [
      "STATUS :  [3, 6]\n"
     ]
    }
   ],
   "source": [
    "s.printStack()"
   ]
  },
  {
   "cell_type": "markdown",
   "metadata": {},
   "source": [
    "# Queues"
   ]
  },
  {
   "cell_type": "code",
   "execution_count": 19,
   "metadata": {},
   "outputs": [
    {
     "name": "stdout",
     "output_type": "stream",
     "text": [
      "Insert 3\n",
      "Insert 6\n",
      "STATUS:  deque([6, 3])\n",
      "Insert 9\n",
      "STATUS:  deque([9, 6, 3])\n",
      "DEQUE 3\n",
      "STATUS:  deque([9, 6])\n",
      "DEQUE 6\n",
      "STATUS:  deque([9])\n"
     ]
    }
   ],
   "source": [
    "#deque\n",
    "from collections import deque\n",
    "queue = deque()\n",
    "print(\"Insert 3\")\n",
    "queue.append(3)\n",
    "print(\"Insert 6\")\n",
    "queue.insert(0,6)\n",
    "print(\"STATUS: \",queue)\n",
    "print(\"Insert 9\")\n",
    "queue.insert(0,9)\n",
    "print(\"STATUS: \",queue)\n",
    "\n",
    "print(\"DEQUE\", queue.pop())\n",
    "print(\"STATUS: \",queue)\n",
    "\n",
    "print(\"DEQUE\", queue.pop())\n",
    "print(\"STATUS: \",queue)"
   ]
  },
  {
   "cell_type": "code",
   "execution_count": 20,
   "metadata": {},
   "outputs": [],
   "source": [
    "#heap class"
   ]
  },
  {
   "cell_type": "code",
   "execution_count": null,
   "metadata": {},
   "outputs": [],
   "source": []
  }
 ],
 "metadata": {
  "kernelspec": {
   "display_name": "Python 3",
   "language": "python",
   "name": "python3"
  },
  "language_info": {
   "codemirror_mode": {
    "name": "ipython",
    "version": 3
   },
   "file_extension": ".py",
   "mimetype": "text/x-python",
   "name": "python",
   "nbconvert_exporter": "python",
   "pygments_lexer": "ipython3",
   "version": "3.6.9"
  }
 },
 "nbformat": 4,
 "nbformat_minor": 2
}
