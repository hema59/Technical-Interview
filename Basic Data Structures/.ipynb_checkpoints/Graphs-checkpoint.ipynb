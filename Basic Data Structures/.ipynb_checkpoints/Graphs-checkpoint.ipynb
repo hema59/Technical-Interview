{
 "cells": [
  {
   "cell_type": "markdown",
   "metadata": {},
   "source": [
    "# Graphs\n",
    "**Basics** : \n",
    "Adjacency  Lists: *DONE*\n",
    "- creation\n",
    "- insertion\n",
    "- traversal\n",
    "- search"
   ]
  },
  {
   "cell_type": "code",
   "execution_count": 10,
   "metadata": {},
   "outputs": [
    {
     "name": "stdout",
     "output_type": "stream",
     "text": [
      "A\n",
      "B\n",
      "C\n",
      "D\n",
      "E\n"
     ]
    }
   ],
   "source": [
    "import collections\n",
    "class gDS:\n",
    "    def __init__(self, graph = None):\n",
    "        self.graph = graph\n",
    "        \n",
    "    def DepthFirstTraversal(self, start, visited = None):\n",
    "        if visited is None:\n",
    "            visited = set()\n",
    "        visited.add(start)\n",
    "        print(start)\n",
    "        for next in set(self.graph[start])-visited:\n",
    "            self.DepthFirstTraversal(next, visited)\n",
    "        return\n",
    "    \n",
    "    def BreadthFirstTraversal(self, start):\n",
    "        visited, q = set(start), collections.deque(start)\n",
    "        while q:\n",
    "            t = q.popleft()\n",
    "            print(t)\n",
    "            for item in self.graph[t]:\n",
    "                if item not in visited:\n",
    "                    visited.add(item)\n",
    "                    q.append(item)\n",
    "    \n",
    "adList= {   'A': ['B','E'] , \n",
    "            'B': ['A','C'],\n",
    "            'C': ['B','D'],\n",
    "            'E': ['A'],\n",
    "            'D': ['A'] }\n",
    "g = gDS(adList)\n",
    "g.DepthFirstTraversal('A')"
   ]
  },
  {
   "cell_type": "code",
   "execution_count": 11,
   "metadata": {},
   "outputs": [
    {
     "name": "stdout",
     "output_type": "stream",
     "text": [
      "A\n",
      "B\n",
      "E\n",
      "C\n",
      "D\n"
     ]
    }
   ],
   "source": [
    "g.BreadthFirstTraversal('A')"
   ]
  },
  {
   "cell_type": "code",
   "execution_count": 25,
   "metadata": {},
   "outputs": [],
   "source": [
    "def DFS(graph, start, value ,visited = None):\n",
    "    \n",
    "    if visited is None:\n",
    "        visited = set()\n",
    "    visited.add(start)\n",
    "    for next in set(graph.graph[start])- visited:\n",
    "        DFS(graph, next, value, visited)\n",
    "    if value in visited:\n",
    "        return True   \n",
    "    else:\n",
    "        return False\n",
    "    "
   ]
  },
  {
   "cell_type": "code",
   "execution_count": 26,
   "metadata": {},
   "outputs": [
    {
     "data": {
      "text/plain": [
       "False"
      ]
     },
     "execution_count": 26,
     "metadata": {},
     "output_type": "execute_result"
    }
   ],
   "source": [
    "DFS(g,'A','T')"
   ]
  },
  {
   "cell_type": "code",
   "execution_count": 27,
   "metadata": {},
   "outputs": [
    {
     "data": {
      "text/plain": [
       "True"
      ]
     },
     "execution_count": 27,
     "metadata": {},
     "output_type": "execute_result"
    }
   ],
   "source": [
    "DFS(g,'A','E')"
   ]
  },
  {
   "cell_type": "code",
   "execution_count": 31,
   "metadata": {},
   "outputs": [],
   "source": [
    "def BFS(graph, start, value):\n",
    "    visited , q = set(start), collections.deque(start)\n",
    "    while q:\n",
    "        t = q.popleft()\n",
    "        for item in graph.graph[t]:\n",
    "            if item not in visited:\n",
    "                visited.add(item)\n",
    "                q.append(item)\n",
    "    if value in visited:\n",
    "        return True\n",
    "    else:\n",
    "        return False"
   ]
  },
  {
   "cell_type": "code",
   "execution_count": 32,
   "metadata": {},
   "outputs": [
    {
     "data": {
      "text/plain": [
       "False"
      ]
     },
     "execution_count": 32,
     "metadata": {},
     "output_type": "execute_result"
    }
   ],
   "source": [
    "BFS(g, 'A','R')"
   ]
  },
  {
   "cell_type": "code",
   "execution_count": 33,
   "metadata": {},
   "outputs": [
    {
     "data": {
      "text/plain": [
       "True"
      ]
     },
     "execution_count": 33,
     "metadata": {},
     "output_type": "execute_result"
    }
   ],
   "source": [
    "BFS(g,'A','C')"
   ]
  }
 ],
 "metadata": {
  "kernelspec": {
   "display_name": "Python 3",
   "language": "python",
   "name": "python3"
  },
  "language_info": {
   "codemirror_mode": {
    "name": "ipython",
    "version": 3
   },
   "file_extension": ".py",
   "mimetype": "text/x-python",
   "name": "python",
   "nbconvert_exporter": "python",
   "pygments_lexer": "ipython3",
   "version": "3.6.9"
  }
 },
 "nbformat": 4,
 "nbformat_minor": 2
}
