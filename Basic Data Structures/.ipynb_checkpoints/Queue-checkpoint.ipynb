{
 "cells": [
  {
   "cell_type": "markdown",
   "metadata": {},
   "source": [
    "# Queue\n",
    "\n",
    "**Basics**:\n",
    "- List implementation \n",
    "    - Enqueue\n",
    "    - Dequeue\n",
    "    - print all\n",
    "- Linked list implementation\n",
    "    - Enqueue\n",
    "    - Dequeue\n",
    "    - print all\n",
    "- Stack implementation\n",
    "    - Enqueue\n",
    "    - Dequeue\n",
    "    - print all\n",
    "    \n",
    "**Extras**: \n",
    "- circular queue\n",
    "- double ended queue ie deque"
   ]
  },
  {
   "cell_type": "code",
   "execution_count": null,
   "metadata": {},
   "outputs": [],
   "source": []
  }
 ],
 "metadata": {
  "kernelspec": {
   "display_name": "Python 3",
   "language": "python",
   "name": "python3"
  },
  "language_info": {
   "codemirror_mode": {
    "name": "ipython",
    "version": 3
   },
   "file_extension": ".py",
   "mimetype": "text/x-python",
   "name": "python",
   "nbconvert_exporter": "python",
   "pygments_lexer": "ipython3",
   "version": "3.6.9"
  }
 },
 "nbformat": 4,
 "nbformat_minor": 2
}
