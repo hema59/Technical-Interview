{
 "cells": [
  {
   "cell_type": "markdown",
   "metadata": {},
   "source": [
    "# Queue\n",
    "\n",
    "**Basics**:\n",
    "- List implementation *DONE*\n",
    "    - Enqueue\n",
    "    - Dequeue\n",
    "    - print all\n",
    "- Linked list implementation *DONE*\n",
    "    - Enqueue\n",
    "    - Dequeue\n",
    "    - print all\n",
    "- Stack implementation *DONE*\n",
    "    - Enqueue\n",
    "    - Dequeue\n",
    "    - print all\n",
    "    \n",
    "**Extras**: \n",
    "- circular queue\n",
    "- double ended queue ie deque"
   ]
  },
  {
   "cell_type": "code",
   "execution_count": 2,
   "metadata": {},
   "outputs": [
    {
     "name": "stdout",
     "output_type": "stream",
     "text": [
      "[5, 9, 3]\n",
      "[5, 9]\n",
      "[5]\n"
     ]
    }
   ],
   "source": [
    "#list based implementation\n",
    "queue = []\n",
    "\n",
    "#enqueue\n",
    "queue.insert(0,3)\n",
    "queue.insert(0,9)\n",
    "queue.insert(0,5)\n",
    "\n",
    "print(queue)\n",
    "\n",
    "#dequeue\n",
    "queue.pop()\n",
    "print(queue)\n",
    "\n",
    "queue.pop()\n",
    "print(queue)"
   ]
  },
  {
   "cell_type": "code",
   "execution_count": 9,
   "metadata": {},
   "outputs": [],
   "source": [
    "#Linked list implementation\n",
    "class Node:\n",
    "    def __init__(self, val):\n",
    "        self.value = val\n",
    "        self.next = None\n",
    "    \n",
    "class qDS:\n",
    "    def __init__(self):\n",
    "        self.head = None\n",
    "        \n",
    "    def enqueue(self,val):\n",
    "        if self.head is None:\n",
    "            self.head = Node(val)\n",
    "            return\n",
    "        c = self.head\n",
    "        while c.next:\n",
    "            c = c.next\n",
    "        c.next = Node(val)\n",
    "        return\n",
    "    \n",
    "    def dequeue(self):\n",
    "        if self.head is None:\n",
    "            return \"Empty queue\"\n",
    "        print(\"%d is out of queue\"%(self.head.value))\n",
    "        self.head = self.head.next\n",
    "        return\n",
    "    \n",
    "    def printMe(self):\n",
    "        if self.head is None:\n",
    "            return \"Empty queue\"\n",
    "        c = self.head\n",
    "        print(\"Head <- \",end = \"\")\n",
    "        while c:\n",
    "            print(c.value, end = \" \")\n",
    "            c = c.next\n",
    "        print(' <- Tail')\n",
    "        \n"
   ]
  },
  {
   "cell_type": "code",
   "execution_count": 10,
   "metadata": {},
   "outputs": [
    {
     "data": {
      "text/plain": [
       "'Empty queue'"
      ]
     },
     "execution_count": 10,
     "metadata": {},
     "output_type": "execute_result"
    }
   ],
   "source": [
    "q = qDS()\n",
    "q.printMe()"
   ]
  },
  {
   "cell_type": "code",
   "execution_count": 11,
   "metadata": {},
   "outputs": [
    {
     "name": "stdout",
     "output_type": "stream",
     "text": [
      "Head <- 2 8 6 4  <- Tail\n"
     ]
    }
   ],
   "source": [
    "q.enqueue(2)\n",
    "q.enqueue(8)\n",
    "q.enqueue(6)\n",
    "q.enqueue(4)\n",
    "q.printMe()"
   ]
  },
  {
   "cell_type": "code",
   "execution_count": 12,
   "metadata": {},
   "outputs": [
    {
     "name": "stdout",
     "output_type": "stream",
     "text": [
      "2 is out of queue\n"
     ]
    }
   ],
   "source": [
    "q.dequeue()"
   ]
  },
  {
   "cell_type": "code",
   "execution_count": 13,
   "metadata": {},
   "outputs": [
    {
     "name": "stdout",
     "output_type": "stream",
     "text": [
      "Head <- 8 6 4  <- Tail\n"
     ]
    }
   ],
   "source": [
    "q.printMe()"
   ]
  },
  {
   "cell_type": "code",
   "execution_count": 16,
   "metadata": {},
   "outputs": [],
   "source": [
    "#stack representation using inbound stack and outbound stack\n",
    "class Queue:\n",
    "    def __init__(self):\n",
    "        self.inboundStack = []\n",
    "        self.outboundStack = []\n",
    "        \n",
    "    def enqueue(self, val):\n",
    "        self.inboundStack.append(val)\n",
    "        return\n",
    "    \n",
    "    def dequeue(self):\n",
    "        if len(self.inboundStack) != 0:\n",
    "            print(\"Dequeueing element %d\"%(self.inboundStack.pop(0)))\n",
    "            self.outboundStack = [item for item in self.inboundStack]\n",
    "            self.inboundStack = [item for item in self.outboundStack]\n",
    "        else:\n",
    "            return \"Empty Queue\"\n",
    "        \n",
    "    def printMe(self):\n",
    "        if len(self.inboundStack) !=0:\n",
    "            print(\"Head <- \",self.inboundStack,\" <- Tail\")\n",
    "        else:\n",
    "            return \"Empty queue\""
   ]
  },
  {
   "cell_type": "code",
   "execution_count": 17,
   "metadata": {},
   "outputs": [
    {
     "data": {
      "text/plain": [
       "'Empty Queue'"
      ]
     },
     "execution_count": 17,
     "metadata": {},
     "output_type": "execute_result"
    }
   ],
   "source": [
    "q = Queue()\n",
    "q.dequeue()"
   ]
  },
  {
   "cell_type": "code",
   "execution_count": 18,
   "metadata": {},
   "outputs": [
    {
     "name": "stdout",
     "output_type": "stream",
     "text": [
      "Head <-  [4, 9, 8, 3]  <- Tail\n"
     ]
    }
   ],
   "source": [
    "q.enqueue(4)\n",
    "q.enqueue(9)\n",
    "q.enqueue(8)\n",
    "q.enqueue(3)\n",
    "q.printMe()"
   ]
  },
  {
   "cell_type": "code",
   "execution_count": 19,
   "metadata": {},
   "outputs": [
    {
     "name": "stdout",
     "output_type": "stream",
     "text": [
      "Dequeueing element 4\n"
     ]
    }
   ],
   "source": [
    "q.dequeue()"
   ]
  },
  {
   "cell_type": "code",
   "execution_count": 20,
   "metadata": {},
   "outputs": [
    {
     "name": "stdout",
     "output_type": "stream",
     "text": [
      "Head <-  [9, 8, 3]  <- Tail\n"
     ]
    }
   ],
   "source": [
    "q.printMe()"
   ]
  }
 ],
 "metadata": {
  "kernelspec": {
   "display_name": "Python 3",
   "language": "python",
   "name": "python3"
  },
  "language_info": {
   "codemirror_mode": {
    "name": "ipython",
    "version": 3
   },
   "file_extension": ".py",
   "mimetype": "text/x-python",
   "name": "python",
   "nbconvert_exporter": "python",
   "pygments_lexer": "ipython3",
   "version": "3.6.9"
  }
 },
 "nbformat": 4,
 "nbformat_minor": 2
}
