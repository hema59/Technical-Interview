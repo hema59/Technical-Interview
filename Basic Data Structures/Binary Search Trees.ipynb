{
 "cells": [
  {
   "cell_type": "markdown",
   "metadata": {},
   "source": [
    "# Binary Search Trees\n",
    "**Basics** : *DONE*\n",
    "- creation\n",
    "- insertion\n",
    "- deletion\n",
    "- search\n",
    "- print in inorder, preorder, postorder and level order\n",
    "\n",
    "**Extras** :\n",
    "- flatten tree\n",
    "- All possible path from root to leaves"
   ]
  },
  {
   "cell_type": "code",
   "execution_count": 206,
   "metadata": {},
   "outputs": [],
   "source": [
    "class Node:\n",
    "    def __init__(self, val, left = None, right = None):\n",
    "        self.data = val\n",
    "        self.left = None\n",
    "        self.right = None\n",
    "        \n",
    "class BST:\n",
    "    def __init__(self):\n",
    "        self.root = None\n",
    "        \n",
    "    def insert(self, val):\n",
    "        if self.root is None:\n",
    "            self.root = Node(val)\n",
    "            return \n",
    "        else:\n",
    "            self.insertHelper(self.root, val)\n",
    "    \n",
    "    def insertHelper(self, node, val):\n",
    "        if val <= node.data:\n",
    "            if node.left is None:\n",
    "                node.left = Node(val)\n",
    "            else:\n",
    "                return self.insertHelper(node.left, val)\n",
    "        else:\n",
    "            if node.right is None:\n",
    "                node.right = Node(val)\n",
    "            else:\n",
    "                return self.insertHelper(node.right, val)\n",
    "    \n",
    "    def preorder(self, node ):\n",
    "        print(node.data)\n",
    "        if node.left:\n",
    "            self.preorder(node.left)\n",
    "        if node.right:\n",
    "            self.preorder(node.right)\n",
    "            \n",
    "    def postorder(self, node ):\n",
    "        if node.left:\n",
    "            self.postorder(node.left)\n",
    "        if node.right:\n",
    "            self.postorder(node.right)\n",
    "        print(node.data)\n",
    "        \n",
    "    def inorder(self, node):\n",
    "        if node.left:\n",
    "            self.inorder(node.left)\n",
    "        print(node.data)\n",
    "        if node.right:\n",
    "            self.inorder(node.right)\n",
    "            \n",
    "    def find(self, val ):\n",
    "        if self.root is None: \n",
    "            return False\n",
    "        return self.finder(self.root, val)\n",
    "    \n",
    "    def finder(self, node, val):\n",
    "        if node.data == val: \n",
    "            return True\n",
    "        if val <= node.data:\n",
    "            if node.left:\n",
    "                return self.finder(node.left, val)\n",
    "        else:\n",
    "            if node.right:\n",
    "                return self.finder(node.right, val)\n",
    "        return False\n",
    "    \n",
    "    def getMinLeaf(self, c):\n",
    "        while c:\n",
    "            prev = c\n",
    "            c = c.left\n",
    "        return prev\n",
    "    \n",
    "    def remove(self, val):\n",
    "        if self.root is None:\n",
    "            return \"Empty Tree\"\n",
    "        return self.removeHelper(self.root, val)\n",
    "\n",
    "    def removeHelper(self, node, val):\n",
    "        #travel\n",
    "        try:\n",
    "            if val < node.data:\n",
    "                  self.removeHelper(node.left, val)\n",
    "            elif val > node.data:\n",
    "                  self.removeHelper(node.right, val)\n",
    "            elif val == node.data:\n",
    "                #leaf node\n",
    "                if node.right is None and node.left is None:\n",
    "                    node.data = None\n",
    "                    node = None\n",
    "                    return \n",
    "\n",
    "                #if the node has one or more leaves\n",
    "                elif node.right is None:\n",
    "                    node = node.left\n",
    "                    return\n",
    "                if node.left is None:\n",
    "                    node = node.right\n",
    "                    return\n",
    "                t = self.getMinLeaf(node.right)\n",
    "                node.data = t.data\n",
    "                self.removeHelper(node.right, t.data)\n",
    "        except:\n",
    "            print( \"Invalid item\")"
   ]
  },
  {
   "cell_type": "code",
   "execution_count": 207,
   "metadata": {},
   "outputs": [
    {
     "name": "stdout",
     "output_type": "stream",
     "text": [
      "0\n",
      "3\n",
      "8\n",
      "10\n",
      "15\n",
      "20\n"
     ]
    }
   ],
   "source": [
    "tree = BST()\n",
    "tree.insert(20)\n",
    "tree.insert(10)\n",
    "tree.insert(15)\n",
    "tree.insert(3)\n",
    "tree.insert(0)\n",
    "tree.insert(8)\n",
    "tree.inorder(tree.root)"
   ]
  },
  {
   "cell_type": "code",
   "execution_count": 208,
   "metadata": {},
   "outputs": [
    {
     "name": "stdout",
     "output_type": "stream",
     "text": [
      "0\n",
      "3\n",
      "None\n",
      "10\n",
      "15\n",
      "20\n"
     ]
    }
   ],
   "source": [
    "tree.remove(8)\n",
    "tree.inorder(tree.root)"
   ]
  },
  {
   "cell_type": "code",
   "execution_count": 209,
   "metadata": {},
   "outputs": [
    {
     "name": "stdout",
     "output_type": "stream",
     "text": [
      "0\n",
      "3\n",
      "None\n",
      "15\n",
      "None\n",
      "20\n"
     ]
    }
   ],
   "source": [
    "tree.remove(10)\n",
    "tree.inorder(tree.root)"
   ]
  },
  {
   "cell_type": "code",
   "execution_count": 210,
   "metadata": {},
   "outputs": [
    {
     "name": "stdout",
     "output_type": "stream",
     "text": [
      "Invalid item\n"
     ]
    }
   ],
   "source": [
    "tree.remove(100)"
   ]
  },
  {
   "cell_type": "code",
   "execution_count": 212,
   "metadata": {},
   "outputs": [
    {
     "data": {
      "text/plain": [
       "True"
      ]
     },
     "execution_count": 212,
     "metadata": {},
     "output_type": "execute_result"
    }
   ],
   "source": [
    "tree.find(3)"
   ]
  },
  {
   "cell_type": "code",
   "execution_count": 213,
   "metadata": {},
   "outputs": [
    {
     "data": {
      "text/plain": [
       "False"
      ]
     },
     "execution_count": 213,
     "metadata": {},
     "output_type": "execute_result"
    }
   ],
   "source": [
    "tree.find(100)"
   ]
  },
  {
   "cell_type": "code",
   "execution_count": 214,
   "metadata": {},
   "outputs": [
    {
     "name": "stdout",
     "output_type": "stream",
     "text": [
      "20\n",
      "15\n",
      "3\n",
      "0\n",
      "None\n",
      "None\n"
     ]
    }
   ],
   "source": [
    "tree.preorder(tree.root)"
   ]
  },
  {
   "cell_type": "code",
   "execution_count": null,
   "metadata": {},
   "outputs": [],
   "source": []
  }
 ],
 "metadata": {
  "kernelspec": {
   "display_name": "Python 3",
   "language": "python",
   "name": "python3"
  },
  "language_info": {
   "codemirror_mode": {
    "name": "ipython",
    "version": 3
   },
   "file_extension": ".py",
   "mimetype": "text/x-python",
   "name": "python",
   "nbconvert_exporter": "python",
   "pygments_lexer": "ipython3",
   "version": "3.6.9"
  }
 },
 "nbformat": 4,
 "nbformat_minor": 2
}
