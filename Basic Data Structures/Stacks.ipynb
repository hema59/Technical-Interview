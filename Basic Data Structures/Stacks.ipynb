{
 "cells": [
  {
   "cell_type": "markdown",
   "metadata": {},
   "source": [
    "# Stacks\n",
    "\n",
    "## Stack Implementations\n",
    "**Basics** :\n",
    "\n",
    "- using lists *DONE*\n",
    "    - push\n",
    "    - pop\n",
    "    - print all\n",
    "    \n",
    "- using linked lists *DONE*\n",
    "    - push\n",
    "    - pop \n",
    "    - print all\n",
    "\n",
    "**Extra** :\n",
    "- palindrome check\n",
    "- balancing paranthesis"
   ]
  },
  {
   "cell_type": "code",
   "execution_count": 13,
   "metadata": {},
   "outputs": [
    {
     "name": "stdout",
     "output_type": "stream",
     "text": [
      "Pushed 9:  [9]\n",
      "Pushed 2 followed by 6:  [9, 2, 6]\n",
      "6\n",
      "Popped out an element from stack:  [9, 2]\n"
     ]
    }
   ],
   "source": [
    "#stack implementation using list\n",
    "stack = []\n",
    "stack.append(9)\n",
    "print(\"Pushed 9: \",stack)\n",
    "stack.append(2)\n",
    "stack.append(6)\n",
    "print(\"Pushed 2 followed by 6: \",stack)\n",
    "print(stack.pop())\n",
    "print(\"Popped out an element from stack: \",stack)"
   ]
  },
  {
   "cell_type": "code",
   "execution_count": 14,
   "metadata": {},
   "outputs": [],
   "source": [
    "#stack implementation using linked lists\n",
    "class Node:\n",
    "    def __init__(self, val):\n",
    "        self.data = val\n",
    "        self.next = None\n",
    "        \n",
    "class stackTemplate:\n",
    "    def __init__(self):\n",
    "        self.top = None\n",
    "        self.size = 1\n",
    "        \n",
    "    def push(self, val):\n",
    "        if self.top is None:\n",
    "            self.top = Node(val)\n",
    "            self.size += 1\n",
    "            return\n",
    "        newNode = Node(val)\n",
    "        newNode.next = self.top\n",
    "        self.top = newNode\n",
    "        self.size += 1\n",
    "        return\n",
    "    \n",
    "    def pop(self):\n",
    "        if self.top is None:\n",
    "            return \"Empty stack\"\n",
    "        print(\"Popping element %d\"%(self.top.data))\n",
    "        self.top = self.top.next\n",
    "        self.size -= 1\n",
    "        return\n",
    "    \n",
    "    def getTop(self):\n",
    "        if self.top is None:\n",
    "            return \"Empty stack\"\n",
    "        return self.top.data\n",
    "    \n",
    "    def size(self):\n",
    "        if self.top is None:\n",
    "            return \"Empty stack\"\n",
    "        return self.size\n",
    "    \n",
    "    def printMe(self):\n",
    "        if self.top is None:\n",
    "            return \"Empty stack\"\n",
    "        c = self.top\n",
    "        while c:\n",
    "            print(\" \",c.data,end=' |')\n",
    "            c = c.next\n",
    "        return"
   ]
  },
  {
   "cell_type": "code",
   "execution_count": 15,
   "metadata": {},
   "outputs": [
    {
     "data": {
      "text/plain": [
       "'Empty stack'"
      ]
     },
     "execution_count": 15,
     "metadata": {},
     "output_type": "execute_result"
    }
   ],
   "source": [
    "stack = stackTemplate()\n",
    "stack.printMe()"
   ]
  },
  {
   "cell_type": "code",
   "execution_count": 16,
   "metadata": {},
   "outputs": [
    {
     "name": "stdout",
     "output_type": "stream",
     "text": [
      "  3 |  7 |"
     ]
    }
   ],
   "source": [
    "stack.push(7)\n",
    "stack.push(3)\n",
    "stack.printMe()"
   ]
  },
  {
   "cell_type": "code",
   "execution_count": 17,
   "metadata": {},
   "outputs": [
    {
     "name": "stdout",
     "output_type": "stream",
     "text": [
      "Popping element 3\n"
     ]
    }
   ],
   "source": [
    "stack.pop()"
   ]
  },
  {
   "cell_type": "code",
   "execution_count": 18,
   "metadata": {},
   "outputs": [
    {
     "name": "stdout",
     "output_type": "stream",
     "text": [
      "  7 |"
     ]
    }
   ],
   "source": [
    "stack.printMe()"
   ]
  },
  {
   "cell_type": "code",
   "execution_count": 19,
   "metadata": {},
   "outputs": [
    {
     "name": "stdout",
     "output_type": "stream",
     "text": [
      "Popping element 7\n"
     ]
    },
    {
     "data": {
      "text/plain": [
       "'Empty stack'"
      ]
     },
     "execution_count": 19,
     "metadata": {},
     "output_type": "execute_result"
    }
   ],
   "source": [
    "stack.pop()\n",
    "stack.pop()"
   ]
  },
  {
   "cell_type": "code",
   "execution_count": null,
   "metadata": {},
   "outputs": [],
   "source": []
  }
 ],
 "metadata": {
  "kernelspec": {
   "display_name": "Python 3",
   "language": "python",
   "name": "python3"
  },
  "language_info": {
   "codemirror_mode": {
    "name": "ipython",
    "version": 3
   },
   "file_extension": ".py",
   "mimetype": "text/x-python",
   "name": "python",
   "nbconvert_exporter": "python",
   "pygments_lexer": "ipython3",
   "version": "3.6.9"
  }
 },
 "nbformat": 4,
 "nbformat_minor": 2
}
