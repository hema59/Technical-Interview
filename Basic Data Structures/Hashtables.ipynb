{
 "cells": [
  {
   "cell_type": "markdown",
   "metadata": {},
   "source": [
    "# Hashtables\n",
    "**Basics** : *DONE*\n",
    "- Creation\n",
    "- Appending\n",
    "- Deletion\n",
    "- Accessing\n",
    "- Traversal"
   ]
  },
  {
   "cell_type": "code",
   "execution_count": 66,
   "metadata": {},
   "outputs": [],
   "source": [
    "class hashDS:\n",
    "    def __init__(self):\n",
    "        self.hashmap = {}\n",
    "        \n",
    "    def insert(self, key, value):\n",
    "        self.hashmap[key]= value\n",
    "        return\n",
    "    \n",
    "    def get(self, key):\n",
    "        try:\n",
    "            return self.hashmap[key]\n",
    "        except Exception as e:\n",
    "            print(\"Invalid key \",e)\n",
    "    \n",
    "    def remove(self, key):\n",
    "        try:\n",
    "            del self.hashmap[key]\n",
    "        except Exception as e:\n",
    "            print(\"Invalid Key \",e)\n",
    "    def isValuePresent(self, value, k =0):\n",
    "        if k!=0:\n",
    "            if value in self.hashmap[k]:\n",
    "                return True\n",
    "            else:\n",
    "                return False\n",
    "        for k in self.hashmap.keys():\n",
    "            if value in self.hashmap[k]:\n",
    "                return True    \n",
    "        return False\n",
    "            \n",
    "    def printMe(self):\n",
    "        return self.hashmap"
   ]
  },
  {
   "cell_type": "code",
   "execution_count": 67,
   "metadata": {},
   "outputs": [
    {
     "data": {
      "text/plain": [
       "{'A': ['Akshitha', 'Arun', 'Amritha', 'Adhira'],\n",
       " 'H': ['Harry', 'Holy', 'Hansika'],\n",
       " 'O': ['Otter', 'Oby', 'Oviya', 'Oliver'],\n",
       " 'T': ['Tanika', 'Tippu', 'Thalaivar']}"
      ]
     },
     "execution_count": 67,
     "metadata": {},
     "output_type": "execute_result"
    }
   ],
   "source": [
    "h = hashDS()\n",
    "h.insert('A',['Akshitha','Arun','Amritha','Adhira'])\n",
    "h.insert('H',['Harry','Holy','Hansika'])\n",
    "h.insert('O',['Otter','Oby','Oviya','Oliver'])\n",
    "h.insert('T',['Tanika','Tippu','Thalaivar'])\n",
    "h.printMe()"
   ]
  },
  {
   "cell_type": "code",
   "execution_count": 68,
   "metadata": {},
   "outputs": [
    {
     "data": {
      "text/plain": [
       "['Tanika', 'Tippu', 'Thalaivar']"
      ]
     },
     "execution_count": 68,
     "metadata": {},
     "output_type": "execute_result"
    }
   ],
   "source": [
    "h.get('T')"
   ]
  },
  {
   "cell_type": "code",
   "execution_count": 69,
   "metadata": {},
   "outputs": [
    {
     "name": "stdout",
     "output_type": "stream",
     "text": [
      "Invalid key  'P'\n"
     ]
    }
   ],
   "source": [
    "h.get('P')"
   ]
  },
  {
   "cell_type": "code",
   "execution_count": 70,
   "metadata": {},
   "outputs": [],
   "source": [
    "h.remove('A')"
   ]
  },
  {
   "cell_type": "code",
   "execution_count": 71,
   "metadata": {},
   "outputs": [
    {
     "data": {
      "text/plain": [
       "{'H': ['Harry', 'Holy', 'Hansika'],\n",
       " 'O': ['Otter', 'Oby', 'Oviya', 'Oliver'],\n",
       " 'T': ['Tanika', 'Tippu', 'Thalaivar']}"
      ]
     },
     "execution_count": 71,
     "metadata": {},
     "output_type": "execute_result"
    }
   ],
   "source": [
    "h.printMe()"
   ]
  },
  {
   "cell_type": "code",
   "execution_count": 72,
   "metadata": {},
   "outputs": [
    {
     "name": "stdout",
     "output_type": "stream",
     "text": [
      "Invalid Key  'R'\n"
     ]
    }
   ],
   "source": [
    "h.remove('R')"
   ]
  },
  {
   "cell_type": "code",
   "execution_count": 73,
   "metadata": {},
   "outputs": [
    {
     "data": {
      "text/plain": [
       "True"
      ]
     },
     "execution_count": 73,
     "metadata": {},
     "output_type": "execute_result"
    }
   ],
   "source": [
    "h.isValuePresent('Tippu')"
   ]
  },
  {
   "cell_type": "code",
   "execution_count": 74,
   "metadata": {},
   "outputs": [
    {
     "data": {
      "text/plain": [
       "False"
      ]
     },
     "execution_count": 74,
     "metadata": {},
     "output_type": "execute_result"
    }
   ],
   "source": [
    "h.isValuePresent('Uday')"
   ]
  },
  {
   "cell_type": "code",
   "execution_count": null,
   "metadata": {},
   "outputs": [],
   "source": []
  }
 ],
 "metadata": {
  "kernelspec": {
   "display_name": "Python 3",
   "language": "python",
   "name": "python3"
  },
  "language_info": {
   "codemirror_mode": {
    "name": "ipython",
    "version": 3
   },
   "file_extension": ".py",
   "mimetype": "text/x-python",
   "name": "python",
   "nbconvert_exporter": "python",
   "pygments_lexer": "ipython3",
   "version": "3.6.9"
  }
 },
 "nbformat": 4,
 "nbformat_minor": 2
}
