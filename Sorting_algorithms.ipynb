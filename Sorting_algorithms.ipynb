{
 "cells": [
  {
   "cell_type": "markdown",
   "metadata": {},
   "source": [
    "# Merge Sort"
   ]
  },
  {
   "cell_type": "code",
   "execution_count": 3,
   "metadata": {},
   "outputs": [
    {
     "data": {
      "text/plain": [
       "[-8, -2, -1, 0, 1, 2, 2, 2, 3, 3, 7, 8, 9]"
      ]
     },
     "execution_count": 3,
     "metadata": {},
     "output_type": "execute_result"
    }
   ],
   "source": [
    "def mergeSort( array ):\n",
    "    if len(array) > 1 :\n",
    "        mid = len(array)//2\n",
    "        left = array[:mid]\n",
    "        right = array[mid:]\n",
    "        left = mergeSort(left)\n",
    "        right = mergeSort(right)\n",
    "        \n",
    "        array = []\n",
    "        while ( len(left)>0 and len(right)>0 ):\n",
    "            if left[0] < right[0]:\n",
    "                    array.append(left[0])\n",
    "                    left.pop(0)\n",
    "            else:\n",
    "                    array.append(right[0])\n",
    "                    right.pop(0)\n",
    "                    \n",
    "        for i in left: array.append(i)\n",
    "        for i in right: array.append(i)\n",
    "    return array\n",
    "    \n",
    "array = [2,3,7,8,9,1,2,0,-2,2,3,-8,-1]\n",
    "mergeSort(array)"
   ]
  },
  {
   "cell_type": "markdown",
   "metadata": {},
   "source": [
    "# Quick Sort"
   ]
  },
  {
   "cell_type": "code",
   "execution_count": 13,
   "metadata": {},
   "outputs": [
    {
     "data": {
      "text/plain": [
       "[0, 1, 2, 2, 3, 3, 4, 6, 7]"
      ]
     },
     "execution_count": 13,
     "metadata": {},
     "output_type": "execute_result"
    }
   ],
   "source": [
    "def quickSort( array ):\n",
    "    return quickSortHelper( array, 0 , len(array)-1 )\n",
    "    \n",
    "def quickSortHelper( array, low, high):\n",
    "    if len(array) == 1: return array\n",
    "    if low < high:\n",
    "        pivot = partition(array, low, high)\n",
    "        quickSortHelper(array, low, pivot-1)\n",
    "        quickSortHelper(array, pivot+1, high)\n",
    "    return array\n",
    "\n",
    "def partition( array, low, high):\n",
    "    x = array[high]\n",
    "    i = low-1\n",
    "    for j in range(low, high):\n",
    "        if array[j]<=x:\n",
    "            i+=1\n",
    "            array[i], array[j]=array[j], array[i]\n",
    "    array[i+1], array[high] = array[high], array[i+1]\n",
    "    return (i+1)\n",
    "\n",
    "quickSort([2,3,4,1,2,6,7,3,0])"
   ]
  },
  {
   "cell_type": "markdown",
   "metadata": {},
   "source": [
    "# Heap Sort"
   ]
  },
  {
   "cell_type": "code",
   "execution_count": 16,
   "metadata": {},
   "outputs": [
    {
     "data": {
      "text/plain": [
       "[-3, 0, 1, 2, 2, 3, 3, 3, 5, 5, 8, 9, 21]"
      ]
     },
     "execution_count": 16,
     "metadata": {},
     "output_type": "execute_result"
    }
   ],
   "source": [
    "def heapSort(array):\n",
    "    size = len(array)\n",
    "    #building max heap\n",
    "    for i in range(size//2 -1, -1, -1):\n",
    "        heapify(array, size, i)\n",
    "        \n",
    "    for i in range(size-1, 0, -1):\n",
    "        array[0], array[i] = array[i], array[0]\n",
    "        heapify(array, i, 0)\n",
    "    return array\n",
    "\n",
    "def heapify(array, size, i):\n",
    "    maxI = i\n",
    "    left = 2*i +1\n",
    "    right = 2*i +2\n",
    "    \n",
    "    if left<size and array[i]<array[left]:\n",
    "        maxI = left\n",
    "    if right<size and array[maxI]<array[right]:\n",
    "        maxI = right\n",
    "    if maxI != i:\n",
    "        array[i], array[maxI] = array[maxI], array[i]\n",
    "        heapify(array, size, maxI)\n",
    "    \n",
    "heapSort([3,8,9,0,1,2,3,5,2,3,21,5,-3])"
   ]
  },
  {
   "cell_type": "code",
   "execution_count": null,
   "metadata": {},
   "outputs": [],
   "source": []
  }
 ],
 "metadata": {
  "kernelspec": {
   "display_name": "Python 3",
   "language": "python",
   "name": "python3"
  },
  "language_info": {
   "codemirror_mode": {
    "name": "ipython",
    "version": 3
   },
   "file_extension": ".py",
   "mimetype": "text/x-python",
   "name": "python",
   "nbconvert_exporter": "python",
   "pygments_lexer": "ipython3",
   "version": "3.6.9"
  }
 },
 "nbformat": 4,
 "nbformat_minor": 2
}
