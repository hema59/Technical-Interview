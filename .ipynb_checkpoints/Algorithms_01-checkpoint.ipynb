{
 "cells": [
  {
   "cell_type": "markdown",
   "metadata": {},
   "source": [
    "# Maximum Subarray Problem"
   ]
  },
  {
   "cell_type": "code",
   "execution_count": 2,
   "metadata": {},
   "outputs": [
    {
     "data": {
      "text/plain": [
       "10"
      ]
     },
     "execution_count": 2,
     "metadata": {},
     "output_type": "execute_result"
    }
   ],
   "source": [
    "#kadane's algorithm\n",
    "def maximumSubarraySum( array ):\n",
    "    if len(array) == 1: return array[0]\n",
    "    if len(array) == 0: return 0\n",
    "    \n",
    "    max_so_far = -(pow(2,31))\n",
    "    max_ending_here = 0\n",
    "    \n",
    "    for i in range(len(array)):\n",
    "        max_ending_here += array[i]\n",
    "        if max_so_far < max  _ending_here:\n",
    "            max_so_far = max_ending_here\n",
    "        if max_ending_here<0:\n",
    "            max_ending_here=0\n",
    "            \n",
    "    return max_so_far\n",
    "\n",
    "\n",
    "array = [2 ,-1, 2, 3,4,-5]\n",
    "maximumSubarraySum( array )"
   ]
  },
  {
   "cell_type": "code",
   "execution_count": 2,
   "metadata": {},
   "outputs": [
    {
     "data": {
      "text/plain": [
       "(1, 2)"
      ]
     },
     "execution_count": 2,
     "metadata": {},
     "output_type": "execute_result"
    }
   ],
   "source": [
    "#max sum of subarray and max sum of subsequence\n",
    "def maxSubarray(arr):\n",
    "    if len(arr) == 0 : return 0,0\n",
    "    if len(arr) == 1 : return arr[0], arr[0]\n",
    "    \n",
    "    max_so_far = -(pow(2,31))\n",
    "    max_ending_here = 0\n",
    "\n",
    "    for i in range(len(arr)):\n",
    "      max_ending_here += arr[i]\n",
    "      if max_so_far < max_ending_here:\n",
    "        max_so_far = max_ending_here\n",
    "      if max_ending_here < 0:\n",
    "        max_ending_here =0\n",
    "    \n",
    "    arr.sort()\n",
    "    arr.reverse()\n",
    "    if arr[0]<=0: sub_sum = arr[0]\n",
    "    else:\n",
    "        sub_sum = sum([arr[i] for i in range(len(arr)) if arr[i]>0])\n",
    "    return max_so_far, sub_sum\n",
    "\n",
    "maxSubarray( [1,-2,1,0])"
   ]
  },
  {
   "cell_type": "markdown",
   "metadata": {},
   "source": [
    "# LCD in Strings\n",
    "\n",
    "input: s1= \"AMMAAMMA\" and s2 =\"AMMA\" ouput = \"AMMA\""
   ]
  },
  {
   "cell_type": "code",
   "execution_count": 2,
   "metadata": {},
   "outputs": [
    {
     "data": {
      "text/plain": [
       "'AMMA'"
      ]
     },
     "execution_count": 2,
     "metadata": {},
     "output_type": "execute_result"
    }
   ],
   "source": [
    "def stringGCD(s1, s2):\n",
    "    if len(s1)<len(s2): return stringGCD(s2, s1)\n",
    "    if len(s2) == 0: return s1\n",
    "    if s1.startswith(s2) is True:\n",
    "        remainder = s1[ len(s2): ]\n",
    "    else: return \"\"\n",
    "    return stringGCD(s2, remainder)\n",
    "s1 = \"AMMAAMMAAMMA\"\n",
    "s2 = \"AMMA\"\n",
    "stringGCD(s1, s2)"
   ]
  },
  {
   "cell_type": "markdown",
   "metadata": {},
   "source": [
    "# LCD in numbers\n",
    "input : array = [32,42,12] ouput = 6"
   ]
  },
  {
   "cell_type": "code",
   "execution_count": 16,
   "metadata": {},
   "outputs": [
    {
     "name": "stdout",
     "output_type": "stream",
     "text": [
      "2 [2]\n",
      "3 [2, 3]\n"
     ]
    },
    {
     "data": {
      "text/plain": [
       "6"
      ]
     },
     "execution_count": 16,
     "metadata": {},
     "output_type": "execute_result"
    }
   ],
   "source": [
    "def lcd( array ):\n",
    "    if len(array)==0: return 0\n",
    "    isdivisible = lambda x,n: True if x%n == 0 else False\n",
    "    minNum = min(array)\n",
    "    factors = []\n",
    "    m = 0\n",
    "    for i in range(2,minNum):\n",
    "        if isdivisible(array[m],i) is True:\n",
    "            factors.append(i)\n",
    "            array = [array[j]//2 for j in range(len(array))]\n",
    "        else:\n",
    "            break\n",
    "        print(i,factors)\n",
    "\n",
    "    prod =1\n",
    "    for i in factors:\n",
    "        prod *=i\n",
    "    return prod\n",
    "\n",
    "array = [36,42,90,12]\n",
    "lcd(array)"
   ]
  },
  {
   "cell_type": "code",
   "execution_count": null,
   "metadata": {},
   "outputs": [],
   "source": []
  }
 ],
 "metadata": {
  "kernelspec": {
   "display_name": "Python 3",
   "language": "python",
   "name": "python3"
  },
  "language_info": {
   "codemirror_mode": {
    "name": "ipython",
    "version": 3
   },
   "file_extension": ".py",
   "mimetype": "text/x-python",
   "name": "python",
   "nbconvert_exporter": "python",
   "pygments_lexer": "ipython3",
   "version": "3.6.9"
  }
 },
 "nbformat": 4,
 "nbformat_minor": 2
}
