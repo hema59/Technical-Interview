{
 "cells": [
  {
   "cell_type": "markdown",
   "metadata": {},
   "source": [
    "# 43 Three Sum\n",
    "Question : Given a list of integers, write a function that returns all sets of 3 numbers in the list, a, b, and c, so that a + b + c == 0.\n",
    "\n",
    "threeSum({‑1, 0, 1, 2, ‑1, ‑4}) output : [‑1, ‑1, 2] , [‑1, 0, 1]"
   ]
  },
  {
   "cell_type": "code",
   "execution_count": 113,
   "metadata": {},
   "outputs": [
    {
     "data": {
      "text/plain": [
       "{(-4, -2, 6), (-4, 0, 4), (-4, 1, 3), (-4, 2, 2), (-2, -2, 4), (-2, 0, 2)}"
      ]
     },
     "execution_count": 113,
     "metadata": {},
     "output_type": "execute_result"
    }
   ],
   "source": [
    "def threeSum( array ):\n",
    "    result, d = set(), set()\n",
    "    s={}\n",
    "    for i in range(len(array)-1):\n",
    "        if array[i] not in d:\n",
    "            d.add(array[i])\n",
    "            for j in range(i+1,len(array)):\n",
    "                t = -(array[i] + array[j])\n",
    "                if t in s and s[t]==array[i]:\n",
    "                    result.add(tuple(sorted((t,array[i], array[j])))) \n",
    "                else:\n",
    "                    s[array[j]]=array[i]\n",
    "    return result\n",
    "array = [-4,-2,-2,-2,0,1,2,2,2,3,3,4,4,6,6]\n",
    "threeSum(array)"
   ]
  },
  {
   "cell_type": "markdown",
   "metadata": {},
   "source": [
    "# 44 Tree Level Order\n",
    "Question : Given a tree, write a function that prints out the nodes of the tree in\n",
    "level order"
   ]
  },
  {
   "cell_type": "code",
   "execution_count": 119,
   "metadata": {},
   "outputs": [
    {
     "name": "stdout",
     "output_type": "stream",
     "text": [
      "9\n",
      "2\n",
      "15\n",
      "1\n",
      "4\n",
      "10\n"
     ]
    }
   ],
   "source": [
    "from collections import deque\n",
    "class Node:\n",
    "    def __init__(self, val):\n",
    "        self.data = val\n",
    "        self.left = None\n",
    "        self.right = None\n",
    "        \n",
    "class TreeDS:\n",
    "    def __init__(self):\n",
    "        self.root = None\n",
    "        \n",
    "    def insert(self, val):\n",
    "        if self.root is None:\n",
    "            self.root = Node(val)\n",
    "            return\n",
    "        else:\n",
    "            return self.insertHelper(self.root, val)\n",
    "    \n",
    "    def insertHelper(self, node, val):\n",
    "        if node.data >= val:\n",
    "            if node.left is None:\n",
    "                node.left = Node(val)\n",
    "            else:\n",
    "                return self.insertHelper(node.left, val)\n",
    "        else:\n",
    "            if node.right is None:\n",
    "                node.right = Node(val)\n",
    "            else:\n",
    "                return self.insertHelper(node.right, val)\n",
    "    \n",
    "    def printLevelOrder(self):\n",
    "        if self.root is None: return \"No leaves\"\n",
    "        q = deque()\n",
    "        q.append(self.root)\n",
    "        while q:\n",
    "            t = q.popleft()\n",
    "            print(t.data)\n",
    "            if t.left:\n",
    "                q.append(t.left)\n",
    "            if t.right:\n",
    "                q.append(t.right)\n",
    "        return \n",
    "         \n",
    "\n",
    "tree = TreeDS()\n",
    "tree.insert(9)\n",
    "tree.insert(2)\n",
    "tree.insert(15)\n",
    "tree.insert(4)\n",
    "tree.insert(10)\n",
    "tree.insert(1)\n",
    "tree.printLevelOrder()"
   ]
  },
  {
   "cell_type": "markdown",
   "metadata": {},
   "source": [
    "# 51 Kth Most Frequent String\n",
    "Question : Given a list of strings, write a function to get the kth most frequently occurring string.\n",
    "\n",
    "kthMostFrequent({\"a\",\"b\",\"c\",\"a\",\"b\",\"a\"}, 0) = \"a\"\n",
    "\n",
    "kthMostFrequent({\"a\",\"b\",\"c\",\"a\",\"b\",\"a\"}, 1) = \"b\"\n",
    "\n",
    "kthMostFrequent({\"a\",\"b\",\"c\",\"a\",\"b\",\"a\"}, 2) = \"c\"\n",
    "\n",
    "kthMostFrequent({\"a\",\"b\",\"c\",\"a\",\"b\",\"a\"}, 3) = null"
   ]
  },
  {
   "cell_type": "code",
   "execution_count": 30,
   "metadata": {},
   "outputs": [
    {
     "name": "stdout",
     "output_type": "stream",
     "text": [
      "Answer with Counter object:  o\n"
     ]
    },
    {
     "data": {
      "text/plain": [
       "'o'"
      ]
     },
     "execution_count": 30,
     "metadata": {},
     "output_type": "execute_result"
    }
   ],
   "source": [
    "from collections import Counter as counter\n",
    "\n",
    "def kMostFrequentwithCounter( string ):\n",
    "    counts = counter(string)\n",
    "    return max(counts)\n",
    "\n",
    "def kMostFrequent( string ):\n",
    "    if len(string) == 0: return \"Empty String\"\n",
    "    counts = {}\n",
    "    counts ={(string.count(i),i) for i in string if i != \" \" and i not in counts}\n",
    "    return max(counts)[1]\n",
    "    \n",
    "string =\"Job Well Done\"\n",
    "print(\"Answer with Counter object: \",kMostFrequentwithCounter(string))\n",
    "kMostFrequent(string)"
   ]
  },
  {
   "cell_type": "code",
   "execution_count": null,
   "metadata": {},
   "outputs": [],
   "source": []
  }
 ],
 "metadata": {
  "kernelspec": {
   "display_name": "Python 3",
   "language": "python",
   "name": "python3"
  },
  "language_info": {
   "codemirror_mode": {
    "name": "ipython",
    "version": 3
   },
   "file_extension": ".py",
   "mimetype": "text/x-python",
   "name": "python",
   "nbconvert_exporter": "python",
   "pygments_lexer": "ipython3",
   "version": "3.6.9"
  }
 },
 "nbformat": 4,
 "nbformat_minor": 2
}
