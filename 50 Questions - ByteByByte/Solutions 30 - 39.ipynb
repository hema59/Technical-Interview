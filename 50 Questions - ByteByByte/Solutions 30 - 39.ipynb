{
 "cells": [
  {
   "cell_type": "markdown",
   "metadata": {},
   "source": [
    "# 30 Palindromes\n",
    "Question : Given a linked list, write a function to determine whether the list is a\n",
    "palindrome."
   ]
  },
  {
   "cell_type": "code",
   "execution_count": 14,
   "metadata": {},
   "outputs": [
    {
     "name": "stdout",
     "output_type": "stream",
     "text": [
      "Head 8 -> 6 -> 8 ->  End\n"
     ]
    },
    {
     "data": {
      "text/plain": [
       "True"
      ]
     },
     "execution_count": 14,
     "metadata": {},
     "output_type": "execute_result"
    }
   ],
   "source": [
    "class Node:\n",
    "    def __init__(self, val):\n",
    "        self.data = val\n",
    "        self.next = None\n",
    "\n",
    "class linkedList:\n",
    "    def __init__(self):\n",
    "        self.head = None\n",
    "        \n",
    "    def insertAtHead(self, val):\n",
    "        if self.head is None:\n",
    "            self.head = Node(val)\n",
    "            return\n",
    "        newNode = Node(val)\n",
    "        newNode.next = self.head\n",
    "        self.head = newNode\n",
    "        return\n",
    "    \n",
    "    def printMe(self):\n",
    "        c = self.head\n",
    "        print('Head ',end =\"\")\n",
    "        while c:\n",
    "            print(c.data,end = \" -> \")\n",
    "            c = c.next\n",
    "        print(' End')\n",
    "        return\n",
    "    \n",
    "def isPalindrome( node ):\n",
    "    if node is None: return False\n",
    "    if node.next is None: return True\n",
    "    stack = []\n",
    "    c = node\n",
    "    while c:\n",
    "        stack.append(c.data)\n",
    "        c = c.next\n",
    "    r = stack.copy()\n",
    "    r.reverse()\n",
    "    if stack == r:\n",
    "        return True\n",
    "    return False\n",
    "\n",
    "l = linkedList()\n",
    "array = [8,6,8]\n",
    "for i in array:\n",
    "    l.insertAtHead(i)\n",
    "l.printMe()\n",
    "isPalindrome(l.head)"
   ]
  },
  {
   "cell_type": "markdown",
   "metadata": {},
   "source": [
    "# 31 Max stacks\n",
    "Question : Implement a LIFO stack that has a push(), pop(), and max() function, where max() returns the maximum value in the stack. All of these functions should run in O(1) time."
   ]
  },
  {
   "cell_type": "code",
   "execution_count": 19,
   "metadata": {},
   "outputs": [
    {
     "data": {
      "text/plain": [
       "3"
      ]
     },
     "execution_count": 19,
     "metadata": {},
     "output_type": "execute_result"
    }
   ],
   "source": [
    "class lifo:\n",
    "    def __init__(self):\n",
    "        self.maxNum =-(pow(2,31))\n",
    "        self.stack = []\n",
    "        \n",
    "    def push(self, val):\n",
    "        self.stack.append(val)\n",
    "        if val >= self.maxNum:\n",
    "            self.maxNum = val\n",
    "        \n",
    "    def pop(self):\n",
    "        t = self.stack.pop()\n",
    "        print(t)\n",
    "        if t == self.maxNum:\n",
    "            self.maxNum = max(self.stack)\n",
    "        return \n",
    "    \n",
    "    def maxStack(self):\n",
    "        return self.maxNum\n",
    "    \n",
    "s = lifo()\n",
    "s.push(3)\n",
    "s.maxStack()"
   ]
  },
  {
   "cell_type": "code",
   "execution_count": 21,
   "metadata": {},
   "outputs": [
    {
     "data": {
      "text/plain": [
       "50"
      ]
     },
     "execution_count": 21,
     "metadata": {},
     "output_type": "execute_result"
    }
   ],
   "source": [
    "s.push(6)\n",
    "s.push(50)\n",
    "s.push(10)\n",
    "s.maxStack()"
   ]
  },
  {
   "cell_type": "code",
   "execution_count": 22,
   "metadata": {},
   "outputs": [
    {
     "name": "stdout",
     "output_type": "stream",
     "text": [
      "10\n"
     ]
    }
   ],
   "source": [
    "s.pop()"
   ]
  },
  {
   "cell_type": "code",
   "execution_count": 23,
   "metadata": {},
   "outputs": [
    {
     "name": "stdout",
     "output_type": "stream",
     "text": [
      "50\n"
     ]
    }
   ],
   "source": [
    "s.pop()"
   ]
  },
  {
   "cell_type": "code",
   "execution_count": 24,
   "metadata": {},
   "outputs": [
    {
     "data": {
      "text/plain": [
       "6"
      ]
     },
     "execution_count": 24,
     "metadata": {},
     "output_type": "execute_result"
    }
   ],
   "source": [
    "s.maxStack()"
   ]
  },
  {
   "cell_type": "markdown",
   "metadata": {},
   "source": [
    "# 32. Two Missing Numbers\n",
    "Question : Given an array containing all the numbers from 1 to n except two, find the two missing numbers.\n",
    "\n",
    "missing([4, 2, 3]) = 1, 5\n"
   ]
  },
  {
   "cell_type": "code",
   "execution_count": 29,
   "metadata": {},
   "outputs": [
    {
     "name": "stdout",
     "output_type": "stream",
     "text": [
      "3 15 7\n"
     ]
    },
    {
     "data": {
      "text/plain": [
       "[5, 3]"
      ]
     },
     "execution_count": 29,
     "metadata": {},
     "output_type": "execute_result"
    }
   ],
   "source": [
    "def findTwoMissing( array ):\n",
    "    size = len(array)\n",
    "    #because ending is excluded\n",
    "    sumN = sum( [i for i in range(1, size+3) ] )\n",
    "    sumA = sum(array)\n",
    "    print(size,sumN, sumA)\n",
    "    diff = sumN - sumA\n",
    "    for i in range(1, size+2):\n",
    "        d = diff-i\n",
    "        if d not in array and i not in array:\n",
    "            return [d,i]\n",
    "        \n",
    "array = [4,2,1]\n",
    "findTwoMissing(array)"
   ]
  },
  {
   "cell_type": "markdown",
   "metadata": {},
   "source": [
    "# 34 Swap Variables\n",
    "Question : Given two integers, write a function that swaps them without using any temporary variables.\n"
   ]
  },
  {
   "cell_type": "code",
   "execution_count": 34,
   "metadata": {},
   "outputs": [
    {
     "data": {
      "text/plain": [
       "(4, 12)"
      ]
     },
     "execution_count": 34,
     "metadata": {},
     "output_type": "execute_result"
    }
   ],
   "source": [
    "def swapWithoutTemp( a, b):\n",
    "    a = a+b\n",
    "    b = a-b\n",
    "    a = a-b\n",
    "    return a,b\n",
    "\n",
    "def swapUsingBit(a,b):\n",
    "    a = a^b\n",
    "    b = a^b\n",
    "    a = a^b\n",
    "    return a,b\n",
    "\n",
    "a =12\n",
    "b =4\n",
    "#swapWithoutTemp(a,b)\n",
    "swapUsingBit(a,b)"
   ]
  },
  {
   "cell_type": "markdown",
   "metadata": {},
   "source": [
    "# 37 Number of Ones in a Binary Number\n",
    "Question : Given an integer, write a function to compute the number of ones in the binary representation of the number."
   ]
  },
  {
   "cell_type": "code",
   "execution_count": 35,
   "metadata": {},
   "outputs": [
    {
     "data": {
      "text/plain": [
       "2"
      ]
     },
     "execution_count": 35,
     "metadata": {},
     "output_type": "execute_result"
    }
   ],
   "source": [
    "def findOnes( num ):\n",
    "    c =0 \n",
    "    while num: \n",
    "        if(num % 2 == 0):  \n",
    "            c += 1\n",
    "        num //= 2  \n",
    "    return c\n",
    "\n",
    "num = 9\n",
    "findOnes(num)"
   ]
  },
  {
   "cell_type": "code",
   "execution_count": null,
   "metadata": {},
   "outputs": [],
   "source": []
  },
  {
   "cell_type": "code",
   "execution_count": null,
   "metadata": {},
   "outputs": [],
   "source": []
  }
 ],
 "metadata": {
  "kernelspec": {
   "display_name": "Python 3",
   "language": "python",
   "name": "python3"
  },
  "language_info": {
   "codemirror_mode": {
    "name": "ipython",
    "version": 3
   },
   "file_extension": ".py",
   "mimetype": "text/x-python",
   "name": "python",
   "nbconvert_exporter": "python",
   "pygments_lexer": "ipython3",
   "version": "3.6.9"
  }
 },
 "nbformat": 4,
 "nbformat_minor": 2
}
