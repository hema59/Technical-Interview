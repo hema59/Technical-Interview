{
 "cells": [
  {
   "cell_type": "markdown",
   "metadata": {},
   "source": [
    "# 23 - Reverse print the linked list\n",
    "Given a linked list, write a function that prints the nodes of the list in reverse order."
   ]
  },
  {
   "cell_type": "code",
   "execution_count": 37,
   "metadata": {},
   "outputs": [
    {
     "name": "stdout",
     "output_type": "stream",
     "text": [
      "9\n",
      "2\n",
      "8\n",
      "-1\n"
     ]
    }
   ],
   "source": [
    "class Node:\n",
    "    def __init__(self, val):\n",
    "        self.data = val\n",
    "        self.next = None\n",
    "class List:\n",
    "    def __init__(self):\n",
    "        self.head = None\n",
    "        \n",
    "    def insert(self, val):\n",
    "        if self.head is None:\n",
    "            self.head = Node(val)\n",
    "            return\n",
    "        newNode = Node(val)\n",
    "        newNode.next = self.head\n",
    "        self.head = newNode\n",
    "        return\n",
    "    \n",
    "    def reversePrintWithList(self):\n",
    "        if self.head is None: return \"Empty list\"\n",
    "        t = []\n",
    "        c = self.head\n",
    "        while c:\n",
    "            t.append(c.data)\n",
    "            c = c.next\n",
    "        t.reverse()\n",
    "        return t\n",
    "    \n",
    "    def reversePrint(self, node):\n",
    "        if self.head is None: return \"Empty list\"\n",
    "        if node:\n",
    "            self.reversePrint(node.next)\n",
    "            print(node.data)\n",
    "        return\n",
    "    \n",
    "l = List()\n",
    "l.insert(9)\n",
    "l.insert(2)\n",
    "l.insert(8)\n",
    "l.insert(-1)\n",
    "#l.reversePrintWithList()\n",
    "l.reversePrint(l.head)"
   ]
  },
  {
   "cell_type": "markdown",
   "metadata": {},
   "source": [
    "# 24 Balanced Binary Tree\n",
    "Question: Given a binary tree, write a function to determine whether the tree i balanced."
   ]
  },
  {
   "cell_type": "code",
   "execution_count": null,
   "metadata": {},
   "outputs": [],
   "source": [
    "class Node:\n",
    "    def __init__(self, val):\n",
    "        self.data = val\n",
    "        self.right = None\n",
    "        self.left = None\n",
    "class BST:\n",
    "    def __init__(self):\n",
    "        self.root = None\n",
    "        \n",
    "    def insert(self, val):\n",
    "        if self.root is None:\n",
    "            self.root = Node(val)\n",
    "        self.insertHelper(self.root, val)\n",
    "        \n",
    "  "
   ]
  },
  {
   "cell_type": "markdown",
   "metadata": {},
   "source": [
    "# 27 Inorder traversal without Recursion\n",
    "Question : Given a binary search tree, print out the elements of the tree in order\n",
    "without using recursion"
   ]
  },
  {
   "cell_type": "code",
   "execution_count": 15,
   "metadata": {},
   "outputs": [
    {
     "name": "stdout",
     "output_type": "stream",
     "text": [
      "1\n",
      "2\n",
      "6\n",
      "10\n",
      "11\n",
      "15\n"
     ]
    }
   ],
   "source": [
    "class Node:\n",
    "    def __init__(self, val):\n",
    "        self.data = val\n",
    "        self.right = None\n",
    "        self.left = None\n",
    "class BST:\n",
    "    def __init__(self):\n",
    "        self.root = None\n",
    "    def insert(self, val):\n",
    "        if self.root is None:\n",
    "            self.root = Node(val)\n",
    "            return \n",
    "        self.insertHelper(self.root, val)\n",
    "    def insertHelper(self,node, val):\n",
    "        if val <= node.data:\n",
    "            if node.left is None:\n",
    "                node.left = Node(val)\n",
    "                return\n",
    "            else:\n",
    "                self.insertHelper(node.left, val)\n",
    "        else:\n",
    "            if node.right is None:\n",
    "                node.right = Node(val)\n",
    "                return\n",
    "            else:\n",
    "                self.insertHelper(node.right,val)   \n",
    "    def inorder(self, node):\n",
    "        if node.left:\n",
    "            self.inorder(node.left)\n",
    "        print(node.data,\" \")\n",
    "        if node.right:\n",
    "            self.inorder(node.right)\n",
    "    def printMe(self, mode = 'inorder'):\n",
    "        if mode == 'inorder':\n",
    "            self.inorder(self.root)\n",
    "        else:\n",
    "            return\n",
    "        \n",
    "def inorderSansRecursion(node):\n",
    "    stack=[]\n",
    "    c= node\n",
    "    while True:\n",
    "        if c:\n",
    "            stack.append(c)\n",
    "            c = c.left\n",
    "        elif stack:\n",
    "            c = stack.pop()\n",
    "            print(c.data)\n",
    "            c=c.right\n",
    "        else:\n",
    "            break\n",
    "    return\n",
    "    \n",
    "tree = BST()\n",
    "array = [10,2,6,15,1,11]\n",
    "for item in array:\n",
    "    tree.insert(item)\n",
    "#tree.printMe('inorder')\n",
    "inorderSansRecursion(tree.root)"
   ]
  },
  {
   "cell_type": "markdown",
   "metadata": {},
   "source": [
    "# 28 - Sort Stack\n",
    "\n",
    "Question : Given a stack, sort the elements in the stack using one additional stack (and a temporary variable if you need it)\n",
    "\n",
    "Input : ([1, 3, 2, 4]), output : [1, 2, 3, 4]"
   ]
  },
  {
   "cell_type": "code",
   "execution_count": 38,
   "metadata": {},
   "outputs": [
    {
     "data": {
      "text/plain": [
       "[-1, -1, 0, 2, 3, 3, 4, 7]"
      ]
     },
     "execution_count": 38,
     "metadata": {},
     "output_type": "execute_result"
    }
   ],
   "source": [
    "def sortStack( stack ):\n",
    "    if len(stack) == 0:\n",
    "        return \"Empty List\"\n",
    "    tempStack = []\n",
    "    tempStack.append(stack.pop())\n",
    "    while stack:\n",
    "        t = stack.pop()\n",
    "        if t > tempStack[len(tempStack)-1]:\n",
    "            tempStack.sort() \n",
    "            tempStack.append(t)\n",
    "        else:\n",
    "            tempStack[len(tempStack)-1], t = t, tempStack[len(tempStack)-1]\n",
    "            stack.append(t)\n",
    "    return tempStack\n",
    "    \n",
    "    \n",
    "stack = [3,2,3,4,-1,0,7,-1]\n",
    "sortStack(stack)"
   ]
  }
 ],
 "metadata": {
  "kernelspec": {
   "display_name": "Python 3",
   "language": "python",
   "name": "python3"
  },
  "language_info": {
   "codemirror_mode": {
    "name": "ipython",
    "version": 3
   },
   "file_extension": ".py",
   "mimetype": "text/x-python",
   "name": "python",
   "nbconvert_exporter": "python",
   "pygments_lexer": "ipython3",
   "version": "3.6.9"
  }
 },
 "nbformat": 4,
 "nbformat_minor": 2
}
