{
 "cells": [
  {
   "cell_type": "markdown",
   "metadata": {},
   "source": [
    "# 1 Median of sorted arrays\n",
    "Question : Find the median of two sorted arrays."
   ]
  },
  {
   "cell_type": "code",
   "execution_count": 1,
   "metadata": {},
   "outputs": [
    {
     "data": {
      "text/plain": [
       "3.5"
      ]
     },
     "execution_count": 1,
     "metadata": {},
     "output_type": "execute_result"
    }
   ],
   "source": [
    "def findMedian(nums1, nums2):\n",
    "        if len(nums1) == 0 and len(nums2)== 1: return float(nums2[0])\n",
    "        if len(nums2) == 0 and len(nums1)== 1: return float(nums1[0]) \n",
    "        if (len(nums1) == 0 and len(nums2) == 0 ) or (nums1==len(nums1)*[0] and nums2==len(nums2)*[0]): return float(0)\n",
    "        bigArray = nums1 + nums2\n",
    "        bigArray.sort()\n",
    "        if len(bigArray)%2 == 0:\n",
    "            mid = len(bigArray)//2\n",
    "            median = (bigArray[mid]+bigArray[mid-1] ) /2\n",
    "        else:\n",
    "            median = (bigArray[len(bigArray)//2])\n",
    "        return median\n",
    "    \n",
    "nums1 = [1,2,3,4,5]\n",
    "nums2= [3,6,9]\n",
    "findMedian(nums1, nums2)"
   ]
  },
  {
   "cell_type": "markdown",
   "metadata": {},
   "source": [
    "# 4 Find Duplicates\n",
    "Question : Given an array of integers where each value 1 <= x <= len(array), write a function that finds all the duplicates in the array.\n",
    "\n",
    "dups([1, 2, 3]) = [],\n",
    "\n",
    "dups([1, 2, 2]) = [2]\n",
    "\n",
    "dups([3, 3, 3]) = [3]\n",
    "\n",
    "dups([2, 1, 2, 1]) = [1, 2]"
   ]
  },
  {
   "cell_type": "code",
   "execution_count": 4,
   "metadata": {},
   "outputs": [
    {
     "data": {
      "text/plain": [
       "[1, 2]"
      ]
     },
     "execution_count": 4,
     "metadata": {},
     "output_type": "execute_result"
    }
   ],
   "source": [
    "def findDups(array):\n",
    "    hashset = set()\n",
    "    result = []\n",
    "    while array:\n",
    "        t = array.pop()\n",
    "        if t not in hashset:\n",
    "            hashset.add(t)\n",
    "        elif t not in result:\n",
    "            result.append(t)\n",
    "    return result\n",
    "\n",
    "array = [1,2,1,2,1,4]\n",
    "findDups(array)"
   ]
  },
  {
   "cell_type": "markdown",
   "metadata": {},
   "source": [
    "# 8 Merge K Arrays\n",
    "Question : Given k sorted arrays, merge them into a single sorted array.\n",
    "\n",
    "merge({{1, 4, 7},{2, 5, 8},{3, 6, 9}}) = {1, 2, 3, 4, 5, 6, 7, 8, 9}\n"
   ]
  },
  {
   "cell_type": "code",
   "execution_count": 65,
   "metadata": {},
   "outputs": [
    {
     "data": {
      "text/plain": [
       "[0, 1, 2, 3, 4, 4, 5, 6, 7, 8, 9, 10]"
      ]
     },
     "execution_count": 65,
     "metadata": {},
     "output_type": "execute_result"
    }
   ],
   "source": [
    "def mergeMatrix( matrix ):\n",
    "    result = [matrix[i][j] for i in range(len(matrix)) for j in range(len(matrix[0]))]\n",
    "    result.sort()\n",
    "    return result\n",
    "\n",
    "matrix = [[1,4,7],[2,5,8],[3,6,9],[10,4,0]]\n",
    "mergeMatrix(matrix)"
   ]
  },
  {
   "cell_type": "markdown",
   "metadata": {},
   "source": [
    "# 10 Merge Arrays\n",
    "Question : Given 2 sorted arrays, A and B, where A is long enough to hold the contents of A and B, write a function to copy the contents of B into A without using any buffer or additional memory.\n",
    "\n",
    "A = {1,3,5,0,0,0}, B = {2,4,6}\n",
    "\n",
    "mergeArrays(A, B)\n",
    "\n",
    "A = {1,2,3,4,5,6}"
   ]
  },
  {
   "cell_type": "code",
   "execution_count": 64,
   "metadata": {},
   "outputs": [
    {
     "data": {
      "text/plain": [
       "[1, 2, 3, 5, 6, 8, 9]"
      ]
     },
     "execution_count": 64,
     "metadata": {},
     "output_type": "execute_result"
    }
   ],
   "source": [
    "def mergeUS( a, b, idx=1 ):\n",
    "    if len(b) == 0: return a\n",
    "    aPointer, bPointer, mergePointer = len(a)-1, len(b)-1, len(a)-len(b)-1\n",
    "    while bPointer != -1:\n",
    "        if b[bPointer] >= a[mergePointer]:\n",
    "            a[aPointer] = b[bPointer]\n",
    "            b.pop()\n",
    "            bPointer-=1\n",
    "            aPointer-=1\n",
    "        else:\n",
    "            a[mergePointer], b[bPointer] = b[bPointer], a[mergePointer]\n",
    "    b = a[:mergePointer+1]\n",
    "    while mergePointer != -1:\n",
    "        a[aPointer] = max(b)\n",
    "        aPointer-=1\n",
    "        b.remove(max(b))\n",
    "        mergePointer-=1\n",
    "    return a\n",
    "    \n",
    "a = [1,3,5,9,0,0,0]\n",
    "b = [2,6,8,9]\n",
    "mergeUS(a,b)"
   ]
  },
  {
   "cell_type": "code",
   "execution_count": null,
   "metadata": {},
   "outputs": [],
   "source": []
  }
 ],
 "metadata": {
  "kernelspec": {
   "display_name": "Python 3",
   "language": "python",
   "name": "python3"
  },
  "language_info": {
   "codemirror_mode": {
    "name": "ipython",
    "version": 3
   },
   "file_extension": ".py",
   "mimetype": "text/x-python",
   "name": "python",
   "nbconvert_exporter": "python",
   "pygments_lexer": "ipython3",
   "version": "3.6.9"
  }
 },
 "nbformat": 4,
 "nbformat_minor": 2
}
