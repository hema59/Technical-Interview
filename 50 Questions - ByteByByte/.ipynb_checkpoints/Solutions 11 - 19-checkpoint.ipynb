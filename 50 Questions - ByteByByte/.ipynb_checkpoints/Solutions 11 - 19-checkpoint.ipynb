{
 "cells": [
  {
   "cell_type": "markdown",
   "metadata": {},
   "source": [
    "# 11 - Zero Sum Subarray\n",
    "Question: Given an array, write a function to find any subarray that sums to zero, if one exists.\n",
    "\n",
    "zeroSum({1, 2, ‑5, 1, 2, ‑1}) = [2, ‑5, 1, 2]"
   ]
  },
  {
   "cell_type": "code",
   "execution_count": 20,
   "metadata": {},
   "outputs": [
    {
     "name": "stdout",
     "output_type": "stream",
     "text": [
      "{1}\n",
      "{1, 3}\n",
      "{1, 3, -2}\n",
      "{1, 3, -2, -1}\n"
     ]
    },
    {
     "data": {
      "text/plain": [
       "True"
      ]
     },
     "execution_count": 20,
     "metadata": {},
     "output_type": "execute_result"
    }
   ],
   "source": [
    "def zeroSum( array ):\n",
    "    t = array.copy()\n",
    "    t.sort()\n",
    "    if t[0] > 0: return \"No possible zero sum\"\n",
    "    t = set()\n",
    "    sumA = 0\n",
    "    for i in range(len(array)):\n",
    "        sumA+= array[i]\n",
    "        if array[i] == 0 or sumA in t:\n",
    "            return True\n",
    "        t.add(sumA)\n",
    "        print(t)\n",
    "    return False\n",
    "\n",
    "array = [1,2,-5,1,2, -1]\n",
    "zeroSum(array)"
   ]
  },
  {
   "cell_type": "markdown",
   "metadata": {},
   "source": [
    "# Summation with +,- operators\n",
    "Question: Given two integers, write a function to sum the numbers without using any arithmetic operators."
   ]
  },
  {
   "cell_type": "code",
   "execution_count": 32,
   "metadata": {},
   "outputs": [
    {
     "data": {
      "text/plain": [
       "40"
      ]
     },
     "execution_count": 32,
     "metadata": {},
     "output_type": "execute_result"
    }
   ],
   "source": [
    "def summation( x, y):\n",
    "    while y:\n",
    "        #extracting common bits from x and y into carry\n",
    "        carry = x & y\n",
    "\n",
    "        #summing binary of x and y\n",
    "        x = x ^ y\n",
    "\n",
    "        #shifting carry to 1\n",
    "        y = carry <<1\n",
    "    return x\n",
    "\n",
    "x = 11\n",
    "y = 29\n",
    "summation(x,y)"
   ]
  },
  {
   "cell_type": "code",
   "execution_count": null,
   "metadata": {},
   "outputs": [],
   "source": []
  }
 ],
 "metadata": {
  "kernelspec": {
   "display_name": "Python 3",
   "language": "python",
   "name": "python3"
  },
  "language_info": {
   "codemirror_mode": {
    "name": "ipython",
    "version": 3
   },
   "file_extension": ".py",
   "mimetype": "text/x-python",
   "name": "python",
   "nbconvert_exporter": "python",
   "pygments_lexer": "ipython3",
   "version": "3.6.9"
  }
 },
 "nbformat": 4,
 "nbformat_minor": 2
}
