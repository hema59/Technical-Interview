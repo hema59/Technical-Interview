{
 "cells": [
  {
   "cell_type": "markdown",
   "metadata": {},
   "source": [
    "# 11 - Zero Sum Subarray\n",
    "Question: Given an array, write a function to find any subarray that sums to zero, if one exists.\n",
    "\n",
    "zeroSum({1, 2, ‑5, 1, 2, ‑1}) = [2, ‑5, 1, 2]"
   ]
  },
  {
   "cell_type": "code",
   "execution_count": 20,
   "metadata": {},
   "outputs": [
    {
     "name": "stdout",
     "output_type": "stream",
     "text": [
      "{1}\n",
      "{1, 3}\n",
      "{1, 3, -2}\n",
      "{1, 3, -2, -1}\n"
     ]
    },
    {
     "data": {
      "text/plain": [
       "True"
      ]
     },
     "execution_count": 20,
     "metadata": {},
     "output_type": "execute_result"
    }
   ],
   "source": [
    "def zeroSum( array ):\n",
    "    t = array.copy()\n",
    "    t.sort()\n",
    "    if t[0] > 0: return \"No possible zero sum\"\n",
    "    t = set()\n",
    "    sumA = 0\n",
    "    for i in range(len(array)):\n",
    "        sumA+= array[i]\n",
    "        if array[i] == 0 or sumA in t:\n",
    "            return True\n",
    "        t.add(sumA)\n",
    "        print(t)\n",
    "    return False\n",
    "\n",
    "array = [1,2,-5,1,2, -1]\n",
    "zeroSum(array)"
   ]
  },
  {
   "cell_type": "markdown",
   "metadata": {},
   "source": [
    "# 15 Build order\n",
    "Question : Given a list of packages that need to be built and the dependencies for each package, determine a valid order in which to build the packages.\n",
    "\n",
    "- 0:\n",
    "- 1: 0\n",
    "- 2: 0\n",
    "- 3: 1, 2\n",
    "- 4: 3\n",
    "\n",
    "output: 0, 1, 2, 3, 4"
   ]
  },
  {
   "cell_type": "code",
   "execution_count": 45,
   "metadata": {},
   "outputs": [
    {
     "name": "stdout",
     "output_type": "stream",
     "text": [
      "5 - [2, 0]\n",
      "4 - [0, 1]\n",
      "2 - [3]\n",
      "3 - [1]\n"
     ]
    },
    {
     "data": {
      "text/plain": [
       "[5, 4, 2, 3, 1, 0]"
      ]
     },
     "execution_count": 45,
     "metadata": {},
     "output_type": "execute_result"
    }
   ],
   "source": [
    "from collections import defaultdict \n",
    "class gDS:\n",
    "    def __init__(self, v=0 ): #v = number of vertices\n",
    "        self.graph = defaultdict(list)\n",
    "        self.number_of_vertices = v\n",
    "    \n",
    "    def addEdge( self, u , v ):\n",
    "        self.graph[u].append(v)\n",
    "    \n",
    "def buildorder( packages ):\n",
    "    visited, stack = [False]*(packages.number_of_vertices) , []\n",
    "    for item in range(packages.number_of_vertices):\n",
    "        if visited[item] is False:\n",
    "            util(item, visited, stack, packages.graph)\n",
    "    return stack\n",
    "\n",
    "def util( item, visited, stack, g):\n",
    "    visited[item]=True\n",
    "    for edges in g[item]:\n",
    "        if visited[edges] is False:\n",
    "            util(edges, visited, stack, g)\n",
    "    stack.insert(0, item)\n",
    "\n",
    "\n",
    "packages = gDS(6)\n",
    "packages.addEdge(5,2)\n",
    "packages.addEdge(5,0)\n",
    "packages.addEdge(4,0)\n",
    "packages.addEdge(4,1)\n",
    "packages.addEdge(2,3)\n",
    "packages.addEdge(3,1)\n",
    "[print(item,\"-\",packages.graph[item]) for item in packages.graph]\n",
    "buildorder(packages)"
   ]
  },
  {
   "cell_type": "code",
   "execution_count": 74,
   "metadata": {},
   "outputs": [
    {
     "name": "stdout",
     "output_type": "stream",
     "text": [
      "a  -  ['c', 'b']\n",
      "b  -  ['d', 'e']\n"
     ]
    },
    {
     "data": {
      "text/plain": [
       "['c', 'd', 'e', 'b', 'a']"
      ]
     },
     "execution_count": 74,
     "metadata": {},
     "output_type": "execute_result"
    }
   ],
   "source": [
    "class ggDS:\n",
    "    def __init__(self,v):#v = list of vertices\n",
    "        self.graph = defaultdict(list)\n",
    "        self.vertices = v\n",
    "        self.number_of_edges = 0\n",
    "        \n",
    "    def addEdge(self, u,v):\n",
    "        self.number_of_edges += 1\n",
    "        self.graph[u].append(v)\n",
    "        \n",
    "def topSort( gClass ):\n",
    "    visited, stack = {'isVisited': [False]*len(gClass.vertices), 'key': gClass.vertices}, []\n",
    "    for idx in range(len(visited['key'])):\n",
    "        if visited['isVisited'][idx] == False:\n",
    "            topSortUtil(idx, visited, stack, gClass.graph )\n",
    "    stack.reverse()\n",
    "    return stack\n",
    "\n",
    "def topSortUtil(idx, visited, stack, graph ):\n",
    "    visited['isVisited'][idx] = True\n",
    "    for item in graph[visited['key'][idx]]:\n",
    "        if visited['isVisited'][visited['key'].index(item)] == False:\n",
    "            topSortUtil(visited['key'].index(item), visited, stack, graph)\n",
    "    stack.insert(0, visited['key'][idx])\n",
    "    \n",
    "\n",
    "vertices = ['a', 'b', 'c', 'd', 'e']\n",
    "g = ggDS(vertices)\n",
    "g.addEdge('a','c')\n",
    "g.addEdge('a','b')\n",
    "g.addEdge('b','d')\n",
    "g.addEdge('b','e')\n",
    "[print(item,\" - \", g.graph[item]) for item in g.graph]\n",
    "\n",
    "topSort(g)"
   ]
  },
  {
   "cell_type": "code",
   "execution_count": 73,
   "metadata": {},
   "outputs": [
    {
     "data": {
      "text/plain": [
       "{'key': ['a', 'b', 'c', 'd', 'e'],\n",
       " 'isVisited': [False, False, False, False, False]}"
      ]
     },
     "execution_count": 73,
     "metadata": {},
     "output_type": "execute_result"
    }
   ],
   "source": [
    "visited, stack = {'key': g.vertices,'isVisited': [False]*len(g.vertices)}, []\n",
    "visited#['isVisited'][visited['key'].index('a')]"
   ]
  },
  {
   "cell_type": "markdown",
   "metadata": {},
   "source": [
    "# 16 Shortest Path\n",
    "Question: Given a directed graph, find the shortest path between two nodes if\n",
    "one exists."
   ]
  },
  {
   "cell_type": "code",
   "execution_count": 18,
   "metadata": {},
   "outputs": [
    {
     "data": {
      "text/plain": [
       "['A', 'B', 'D']"
      ]
     },
     "execution_count": 18,
     "metadata": {},
     "output_type": "execute_result"
    }
   ],
   "source": [
    "from collections import deque\n",
    "class gDS:\n",
    "    def __init__(self, graph = None):\n",
    "        self.graph = graph\n",
    "    \n",
    "    def shortestPath(self, source, dest):\n",
    "        #using BFS\n",
    "        if source == dest: return \"Already at source\"\n",
    "        visited, q = [], [[source]]\n",
    "        while q:\n",
    "            path = q.pop(0) \n",
    "            t = path[-1]\n",
    "            if t not in visited:\n",
    "                neighbors = self.graph[t]\n",
    "                for item in neighbors:\n",
    "                    newPath = list(path)\n",
    "                    newPath.append(item)\n",
    "                    q.append(newPath)\n",
    "                    if item == dest:\n",
    "                        return newPath\n",
    "                visited.append(t)\n",
    "        return\n",
    "    \n",
    "adjL = {\n",
    "   'G': ['C'], \n",
    "   'F': ['C'], \n",
    "   'E': ['A', 'B', 'D'], \n",
    "   'A': ['B', 'E', 'C'], \n",
    "   'B': ['A', 'D', 'E'], \n",
    "   'D': ['B', 'E'], \n",
    "   'C': ['A', 'F', 'G']\n",
    "}\n",
    "g = gDS(adjL)\n",
    "g.shortestPath('A','D')"
   ]
  },
  {
   "cell_type": "markdown",
   "metadata": {},
   "source": [
    "# 19 Summation with +,- operators\n",
    "Question: Given two integers, write a function to sum the numbers without using any arithmetic operators."
   ]
  },
  {
   "cell_type": "code",
   "execution_count": 32,
   "metadata": {},
   "outputs": [
    {
     "data": {
      "text/plain": [
       "40"
      ]
     },
     "execution_count": 32,
     "metadata": {},
     "output_type": "execute_result"
    }
   ],
   "source": [
    "def summation( x, y):\n",
    "    while y:\n",
    "        #extracting common bits from x and y into carry\n",
    "        carry = x & y\n",
    "\n",
    "        #summing binary of x and y\n",
    "        x = x ^ y\n",
    "\n",
    "        #shifting carry to 1\n",
    "        y = carry <<1\n",
    "    return x\n",
    "\n",
    "x = 11\n",
    "y = 29\n",
    "summation(x,y)"
   ]
  },
  {
   "cell_type": "code",
   "execution_count": null,
   "metadata": {},
   "outputs": [],
   "source": []
  }
 ],
 "metadata": {
  "kernelspec": {
   "display_name": "Python 3",
   "language": "python",
   "name": "python3"
  },
  "language_info": {
   "codemirror_mode": {
    "name": "ipython",
    "version": 3
   },
   "file_extension": ".py",
   "mimetype": "text/x-python",
   "name": "python",
   "nbconvert_exporter": "python",
   "pygments_lexer": "ipython3",
   "version": "3.6.9"
  }
 },
 "nbformat": 4,
 "nbformat_minor": 2
}
