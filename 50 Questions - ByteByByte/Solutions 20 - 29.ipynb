{
 "cells": [
  {
   "cell_type": "markdown",
   "metadata": {},
   "source": [
    "# 23 - Reverse print the linked list\n",
    "Given a linked list, write a function that prints the nodes of the list in reverse order."
   ]
  },
  {
   "cell_type": "code",
   "execution_count": 37,
   "metadata": {},
   "outputs": [
    {
     "name": "stdout",
     "output_type": "stream",
     "text": [
      "9\n",
      "2\n",
      "8\n",
      "-1\n"
     ]
    }
   ],
   "source": [
    "class Node:\n",
    "    def __init__(self, val):\n",
    "        self.data = val\n",
    "        self.next = None\n",
    "class List:\n",
    "    def __init__(self):\n",
    "        self.head = None\n",
    "        \n",
    "    def insert(self, val):\n",
    "        if self.head is None:\n",
    "            self.head = Node(val)\n",
    "            return\n",
    "        newNode = Node(val)\n",
    "        newNode.next = self.head\n",
    "        self.head = newNode\n",
    "        return\n",
    "    \n",
    "    def reversePrintWithList(self):\n",
    "        if self.head is None: return \"Empty list\"\n",
    "        t = []\n",
    "        c = self.head\n",
    "        while c:\n",
    "            t.append(c.data)\n",
    "            c = c.next\n",
    "        t.reverse()\n",
    "        return t\n",
    "    \n",
    "    def reversePrint(self, node):\n",
    "        if self.head is None: return \"Empty list\"\n",
    "        if node:\n",
    "            self.reversePrint(node.next)\n",
    "            print(node.data)\n",
    "        return\n",
    "    \n",
    "l = List()\n",
    "l.insert(9)\n",
    "l.insert(2)\n",
    "l.insert(8)\n",
    "l.insert(-1)\n",
    "#l.reversePrintWithList()\n",
    "l.reversePrint(l.head)"
   ]
  },
  {
   "cell_type": "markdown",
   "metadata": {},
   "source": [
    "# 28 - Sort Stack\n",
    "\n",
    "Question : Given a stack, sort the elements in the stack using one additional stack (and a temporary variable if you need it)\n",
    "\n",
    "Input : ([1, 3, 2, 4]), output : [1, 2, 3, 4]"
   ]
  },
  {
   "cell_type": "code",
   "execution_count": 38,
   "metadata": {},
   "outputs": [
    {
     "data": {
      "text/plain": [
       "[-1, -1, 0, 2, 3, 3, 4, 7]"
      ]
     },
     "execution_count": 38,
     "metadata": {},
     "output_type": "execute_result"
    }
   ],
   "source": [
    "def sortStack( stack ):\n",
    "    if len(stack) == 0:\n",
    "        return \"Empty List\"\n",
    "    tempStack = []\n",
    "    tempStack.append(stack.pop())\n",
    "    while stack:\n",
    "        t = stack.pop()\n",
    "        if t > tempStack[len(tempStack)-1]:\n",
    "            tempStack.sort() \n",
    "            tempStack.append(t)\n",
    "        else:\n",
    "            tempStack[len(tempStack)-1], t = t, tempStack[len(tempStack)-1]\n",
    "            stack.append(t)\n",
    "    return tempStack\n",
    "    \n",
    "    \n",
    "stack = [3,2,3,4,-1,0,7,-1]\n",
    "sortStack(stack)"
   ]
  }
 ],
 "metadata": {
  "kernelspec": {
   "display_name": "Python 3",
   "language": "python",
   "name": "python3"
  },
  "language_info": {
   "codemirror_mode": {
    "name": "ipython",
    "version": 3
   },
   "file_extension": ".py",
   "mimetype": "text/x-python",
   "name": "python",
   "nbconvert_exporter": "python",
   "pygments_lexer": "ipython3",
   "version": "3.6.9"
  }
 },
 "nbformat": 4,
 "nbformat_minor": 2
}
